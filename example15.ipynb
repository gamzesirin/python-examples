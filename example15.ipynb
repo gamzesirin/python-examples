{
 "cells": [
  {
   "cell_type": "markdown",
   "metadata": {},
   "source": [
    "## Class Uygulaması\n",
    "- Bir Personel classı oluşturunuz.\n",
    "- Attributes: id, isim, soyisim, doğum yılı, departman, haftada kaç saat çalıştığı, saatlik ücret\n",
    "- Attributleri print ve formatlama ile ekrana yazdırılız.\n",
    "\n",
    "! Örnek Formatlama: print(f'd1 : alan = {d1.alan_hesapla()} çevre = {d1.cevre_hesapla()}') "
   ]
  },
  {
   "cell_type": "code",
   "execution_count": 1,
   "metadata": {},
   "outputs": [],
   "source": [
    "class personel():\n",
    "    id=68876\n",
    "    isim=\"gamze\"\n",
    "    soyisim=\"şirin\"\n",
    "    doğum_yılı=2003\n",
    "    departman=\"veri bilimi-yapay zeka\"\n",
    "    saat=30\n",
    "    ucret=4000"
   ]
  },
  {
   "cell_type": "code",
   "execution_count": 2,
   "metadata": {},
   "outputs": [
    {
     "name": "stdout",
     "output_type": "stream",
     "text": [
      "personel idsi=68876\n",
      "personel ismi=gamze\n",
      "personel soyismi=şirin\n",
      "personelin doğduğu yıl=2003\n",
      "personel departmanı=veri bilimi-yapay zeka\n",
      "personelin çalıştığı saat=30\n",
      "personelin aldığı ucret=4000\n"
     ]
    }
   ],
   "source": [
    "print(f'personel idsi={personel.id}')\n",
    "print(f'personel ismi={personel.isim}')\n",
    "print(f'personel soyismi={personel.soyisim}')\n",
    "print(f'personelin doğduğu yıl={personel.doğum_yılı}')\n",
    "print(f'personel departmanı={personel.departman}')\n",
    "print(f'personelin çalıştığı saat={personel.saat}')\n",
    "print(f'personelin aldığı ucret={personel.ucret}')\n"
   ]
  },
  {
   "cell_type": "markdown",
   "metadata": {},
   "source": [
    "## Class Metotları\n",
    "\n",
    "- Personel classına aşağıdaki metotları ekleyiniz.\n",
    "\t- Yaş hesaplama: Güncel yıl - doğum yılı\n",
    "    - Maaş hesaplama: çalıştığı saat * saatlik ücret\n",
    "- Metot çıktılarını attributler ile birlikte format kullanarak gösteriniz."
   ]
  },
  {
   "cell_type": "code",
   "execution_count": 3,
   "metadata": {},
   "outputs": [],
   "source": [
    "class personel():\n",
    "    def __init__(self):\n",
    "        self.id=68876\n",
    "        self.isim=\"gamze\"\n",
    "        self.soyisim=\"şirin\"\n",
    "        self.dogumyili=2003\n",
    "        self.departman=\"veri bilimi-yapay zeka\"\n",
    "        self.saat=30\n",
    "        self.ucret=4000\n",
    "        \n",
    "    def yas_hesaplama(self):\n",
    "        return 2023-self.dogumyili\n",
    "    def maas_hesaplama(self):\n",
    "        return self.saat*self.ucret"
   ]
  },
  {
   "cell_type": "code",
   "execution_count": 4,
   "metadata": {},
   "outputs": [
    {
     "name": "stdout",
     "output_type": "stream",
     "text": [
      "yas= 20\n",
      "maas= 120000\n"
     ]
    }
   ],
   "source": [
    "x=personel()\n",
    "print(\"yas=\",x.yas_hesaplama())\n",
    "print(\"maas=\",x.maas_hesaplama())"
   ]
  },
  {
   "attachments": {},
   "cell_type": "markdown",
   "metadata": {},
   "source": [
    "## INHERITANCE (KALITIM)"
   ]
  },
  {
   "cell_type": "markdown",
   "metadata": {},
   "source": [
    "\"Calisan\" adlı bir sınıf tanımlayın. Bu sınıfa \"ad\", \"soyad\", \"maas\" özellikleri ekleyin. Bu sınıfta bir \"calis\" metodunu tanımlayın, bu metod çalışanların işyerinde çalıştığını belirten bir çıktı versin"
   ]
  },
  {
   "cell_type": "code",
   "execution_count": 5,
   "metadata": {},
   "outputs": [],
   "source": [
    "class Calısan():\n",
    "    def __init__(self,ad,soyad,maas):\n",
    "        self.ad=ad\n",
    "        self.soyad=soyad\n",
    "        self.maas=maas\n",
    "    def calıs(self):\n",
    "        return(f' {self.ad} {self.soyad} bu iş yerinde çalışıyor')"
   ]
  },
  {
   "cell_type": "code",
   "execution_count": 6,
   "metadata": {},
   "outputs": [
    {
     "name": "stdout",
     "output_type": "stream",
     "text": [
      " gamze şirin bu iş yerinde çalışıyor\n"
     ]
    }
   ],
   "source": [
    "a=Calısan(\"gamze\",\"şirin\",\"68876\")\n",
    "print(a.calıs())"
   ]
  },
  {
   "cell_type": "markdown",
   "metadata": {},
   "source": [
    "\"Mudur\" adlı bir alt sınıf tanımlayın. \n",
    "Bu sınıf, \"Calisan\" sınıfından miras alsın. \"\n",
    "Mudur\" sınıfı, \"Calisan\" sınıfında tanımlanan özelliklere ek olarak, \"departman\" ve \"sicil_no\" gibi özellikleri içersin. \n",
    "Bu sınıfta bir \"calis\" metodu tanımlayın, bu metod çalışanların işyerinde yönetici olarak çalıştığını belirten bir çıktı versin."
   ]
  },
  {
   "cell_type": "code",
   "execution_count": 7,
   "metadata": {},
   "outputs": [],
   "source": [
    "class mudur(Calısan):\n",
    "    def __init__(self,ad,soyad,maas,departman,sicil_no):\n",
    "         self.ad=ad\n",
    "         self.soyad=soyad\n",
    "         self.maas=maas\n",
    "         self.departman=departman\n",
    "         self.sicil_no=sicil_no\n",
    "    def calıs(self):\n",
    "         return (f'iş yerinde {self.departman} bölümünde çalışıyor') "
   ]
  },
  {
   "cell_type": "code",
   "execution_count": 8,
   "metadata": {},
   "outputs": [
    {
     "name": "stdout",
     "output_type": "stream",
     "text": [
      "iş yerinde yönetici bölümünde çalışıyor\n"
     ]
    }
   ],
   "source": [
    "a=mudur(\"gamze\",\"şirin\",68876,\"yönetici\",\"346789\")\n",
    "print(a.calıs())"
   ]
  },
  {
   "cell_type": "markdown",
   "metadata": {},
   "source": [
    "\"Isci\" adlı bir alt sınıf tanımlayın. Bu sınıf da \"Calisan\" sınıfından miras alsın. \n",
    "\"Isci\" sınıfı, \"Calisan\" sınıfında tanımlanan özelliklere ek olarak, \"bolum\" ve \"is_gunu_sayisi\" gibi özellikleri içersin. \n",
    "Bu sınıfta bir \"calis\" metodu tanımlayın, bu metod çalışanların işyerinde işçi olarak çalıştığını belirten bir çıktı versin."
   ]
  },
  {
   "cell_type": "markdown",
   "metadata": {},
   "source": [
    "Calisan\", \"Mudur\" ve \"Isci\" sınıflarından birkaç örnek nesne oluşturun ve bu nesnelerin özelliklerini ve metodlarını çağırın. Örneğin, bir \"Mudur\" örneği oluşturun ve bu örneğin \"ad\", \"soyad\", \"departman\" ve \"sicil_no\" özelliklerini belirleyin. Ardından, \"calis\" metodunu çağırın ve bu yöneticinin işyerinde çalıştığını belirten bir çıktı alın."
   ]
  },
  {
   "cell_type": "code",
   "execution_count": 9,
   "metadata": {},
   "outputs": [],
   "source": [
    "class isci(Calısan):\n",
    "    def __init__(self,ad,soyad,maas,bolum,ıs_gunu_sayısı):\n",
    "         self.ad=ad\n",
    "         self.soyad=soyad\n",
    "         self.maas=maas\n",
    "         self.bolum=bolum\n",
    "         self.ıs_gunu_sayısı=ıs_gunu_sayısı \n",
    "\n",
    "    def calıs(self):\n",
    "         return (f'iş yerinde {self.bolum} olarak çalışıyor') "
   ]
  },
  {
   "cell_type": "code",
   "execution_count": 10,
   "metadata": {},
   "outputs": [
    {
     "name": "stdout",
     "output_type": "stream",
     "text": [
      "iş yerinde programmer olarak çalışıyor\n"
     ]
    }
   ],
   "source": [
    "x=isci(\"gamze\",\"şirin\",68876,\"programmer\",1000)\n",
    "print(x.calıs())"
   ]
  },
  {
   "cell_type": "code",
   "execution_count": 11,
   "metadata": {},
   "outputs": [
    {
     "name": "stdout",
     "output_type": "stream",
     "text": [
      "iş yerinde IT bölümünde çalışıyor\n"
     ]
    }
   ],
   "source": [
    "a.ad=\"gamze\"\n",
    "a.soyad=\"şirin\"\n",
    "a.departman=\"IT\"\n",
    "a.sicil_no=2865432363567\n",
    "y=a.calıs()\n",
    "print(y)"
   ]
  }
 ],
 "metadata": {
  "kernelspec": {
   "display_name": "Python 3 (ipykernel)",
   "language": "python",
   "name": "python3"
  },
  "language_info": {
   "codemirror_mode": {
    "name": "ipython",
    "version": 3
   },
   "file_extension": ".py",
   "mimetype": "text/x-python",
   "name": "python",
   "nbconvert_exporter": "python",
   "pygments_lexer": "ipython3",
   "version": "3.11.2"
  }
 },
 "nbformat": 4,
 "nbformat_minor": 2
}

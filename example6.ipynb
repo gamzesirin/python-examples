{
 "cells": [
  {
   "cell_type": "code",
   "execution_count": 2,
   "metadata": {},
   "outputs": [
    {
     "name": "stdout",
     "output_type": "stream",
     "text": [
      "Taş, kağıt veya makas?\n",
      "makas\n",
      "Bilgisayarın seçimi: kağıt. Kazandın!\n"
     ]
    }
   ],
   "source": [
    "import random\n",
    "print(\"Taş, kağıt veya makas?\")\n",
    "user_choice = input()\n",
    "print(user_choice)\n",
    "# Bilgisayarın seçimini rastgele belirle\n",
    "computer_choice = random.choice(['taş', 'kağıt', 'makas'])\n",
    "# Kullanıcının seçimine göre oyunu değerlendir\n",
    "if user_choice == computer_choice:\n",
    "    print(f\"Bilgisayarın seçimi: {computer_choice}. Berabere!\")\n",
    "elif user_choice == 'taş' and computer_choice == 'makas':\n",
    "    print(f\"Bilgisayarın seçimi: {computer_choice}. Kazandın!\")\n",
    "elif user_choice == 'kağıt' and computer_choice == 'taş':\n",
    "    print(f\"Bilgisayarın seçimi: {computer_choice}. Kazandın!\")\n",
    "elif user_choice == 'makas' and computer_choice == 'kağıt':\n",
    "    print(f\"Bilgisayarın seçimi: {computer_choice}. Kazandın!\")\n",
    "else:\n",
    "    print(f\"Bilgisayarın seçimi: {computer_choice}. Kaybettin!\")"
   ]
  },
  {
   "cell_type": "code",
   "execution_count": null,
   "metadata": {},
   "outputs": [],
   "source": []
  }
 ],
 "metadata": {
  "kernelspec": {
   "display_name": "Python 3",
   "language": "python",
   "name": "python3"
  },
  "language_info": {
   "codemirror_mode": {
    "name": "ipython",
    "version": 3
   },
   "file_extension": ".py",
   "mimetype": "text/x-python",
   "name": "python",
   "nbconvert_exporter": "python",
   "pygments_lexer": "ipython3",
   "version": "3.11.2"
  },
  "orig_nbformat": 4
 },
 "nbformat": 4,
 "nbformat_minor": 2
}

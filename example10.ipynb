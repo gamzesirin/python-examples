{
 "cells": [
  {
   "cell_type": "markdown",
   "metadata": {},
   "source": [
    "Kalıtım (inheritance), nesne yönelimli programlama (object-oriented programming) kavramlarından biridir ve Python gibi birçok programlama dilinde mevcuttur. \n",
    "Kalıtım, bir sınıfın diğer bir sınıfın özelliklerini miras almasıdır. Miras alınan sınıf, üst sınıf (parent class) veya süper sınıf (superclass) olarak adlandırılırken, miras alan sınıf alt sınıf (child class / subclass) olarak adlandırılır.\n",
    "Kalıtım sayesinde kodun tekrarını önleyebilir ve kodu daha düzenli ve okunaklı hale getirebiliriz. Ayrıca, kalıtım hiyerarşisi ile birlikte, daha önce yazılmış bir sınıfı veya modülü yeniden kullanarak yeni sınıflar oluşturabiliriz.\n",
    "Hayvanların genel özelliklerini tanımlayan bir \"Hayvan\" sınıfı ve bu sınıftan türetilen iki alt sınıf olan \"Kedi\" ve \"Köpek\" sınıflarıyla bir örnek yapalım:"
   ]
  },
  {
   "cell_type": "code",
   "execution_count": 1,
   "metadata": {},
   "outputs": [
    {
     "name": "stdout",
     "output_type": "stream",
     "text": [
      "Boncuk isimli hayvan 3 yaşında ve Dişi cinsiyetindedir.\n"
     ]
    }
   ],
   "source": [
    "class Hayvan:\n",
    "    def __init__(self, isim, yas, cinsiyet):\n",
    "        self.isim = isim\n",
    "        self.yas = yas\n",
    "        self.cinsiyet = cinsiyet\n",
    "    \n",
    "    def bilgileri_goster(self):\n",
    "        print(f\"{self.isim} isimli hayvan {self.yas} yaşında ve {self.cinsiyet} cinsiyetindedir.\")\n",
    "\n",
    "hayvan1 = Hayvan(\"Boncuk\", 3, \"Dişi\")\n",
    "hayvan1.bilgileri_goster()"
   ]
  },
  {
   "cell_type": "code",
   "execution_count": 3,
   "metadata": {},
   "outputs": [],
   "source": [
    "class Kedi(Hayvan):\n",
    "    def __init__(self, isim, yas, cinsiyet, tur):\n",
    "        self.isim = isim\n",
    "        self.yas = yas\n",
    "        self.cinsiyet = cinsiyet\n",
    "        self.tur = tur\n",
    "    \n",
    "    def miyavla(self):\n",
    "        print(\"Miyav!\")\n",
    "    \n",
    "class Köpek(Hayvan):\n",
    "    def __init__(self, isim, yas, cinsiyet, tasma_rengi):\n",
    "        self.isim = isim\n",
    "        self.yas = yas\n",
    "        self.cinsiyet = cinsiyet\n",
    "        self.tasma_rengi = tasma_rengi\n",
    "    \n",
    "    def havla(self):\n",
    "        print(\"Hav hav!\")"
   ]
  },
  {
   "cell_type": "code",
   "execution_count": 4,
   "metadata": {},
   "outputs": [
    {
     "name": "stdout",
     "output_type": "stream",
     "text": [
      "Mia isimli hayvan 2 yaşında ve Dişi cinsiyetindedir.\n",
      "Miyav!\n"
     ]
    }
   ],
   "source": [
    "kedi1 = Kedi(\"Mia\", 2, \"Dişi\", \"Van\")\n",
    "kedi1.bilgileri_goster()\n",
    "kedi1.miyavla()"
   ]
  },
  {
   "cell_type": "code",
   "execution_count": 5,
   "metadata": {},
   "outputs": [
    {
     "name": "stdout",
     "output_type": "stream",
     "text": [
      "Bolt isimli hayvan 4 yaşında ve Erkek cinsiyetindedir.\n",
      "Hav hav!\n"
     ]
    }
   ],
   "source": [
    "köpek1 = Köpek(\"Bolt\", 4, \"Erkek\", \"Kırmızı\")\n",
    "köpek1.bilgileri_goster()\n",
    "köpek1.havla()"
   ]
  },
  {
   "cell_type": "code",
   "execution_count": null,
   "metadata": {},
   "outputs": [],
   "source": []
  }
 ],
 "metadata": {
  "kernelspec": {
   "display_name": "Python 3",
   "language": "python",
   "name": "python3"
  },
  "language_info": {
   "codemirror_mode": {
    "name": "ipython",
    "version": 3
   },
   "file_extension": ".py",
   "mimetype": "text/x-python",
   "name": "python",
   "nbconvert_exporter": "python",
   "pygments_lexer": "ipython3",
   "version": "3.11.2"
  },
  "orig_nbformat": 4
 },
 "nbformat": 4,
 "nbformat_minor": 2
}

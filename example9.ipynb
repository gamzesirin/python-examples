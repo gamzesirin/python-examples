{
 "cells": [
  {
   "cell_type": "markdown",
   "metadata": {},
   "source": [
    "## Metotlar"
   ]
  },
  {
   "cell_type": "code",
   "execution_count": 1,
   "metadata": {},
   "outputs": [
    {
     "name": "stdout",
     "output_type": "stream",
     "text": [
      "c1 : alan = 3.14 çevre = 6.28\n",
      "c2 : alan = 78.5 çevre = 31.400000000000002\n"
     ]
    }
   ],
   "source": [
    "class Circle:\n",
    "    # Class object attribute\n",
    "    pi = 3.14\n",
    "\n",
    "    def __init__(self, yaricap=1):         # yarıçap değeri belirtilmediyse, yarıçap 1 kabul edilir\n",
    "        self.yaricap = yaricap\n",
    "\n",
    "    # Methods\n",
    "    def cevre_hesapla(self):                # self referansı verilmezse hata verir.\n",
    "        cevre = 2 * self.pi * self.yaricap\n",
    "        return cevre\n",
    "\n",
    "    def alan_hesapla(self):\n",
    "        alan = self.pi * (self.yaricap**2)\n",
    "        return alan\n",
    "\n",
    "c1 = Circle() \n",
    "c2 = Circle(5)\n",
    "\n",
    "print(f'c1 : alan = {c1.alan_hesapla()} çevre = {c1.cevre_hesapla()}')          \n",
    "print(f'c2 : alan = {c2.alan_hesapla()} çevre = {c2.cevre_hesapla()}')          \n"
   ]
  },
  {
   "cell_type": "code",
   "execution_count": 2,
   "metadata": {},
   "outputs": [
    {
     "name": "stdout",
     "output_type": "stream",
     "text": [
      "Film objesi oluşturuldu.\n"
     ]
    }
   ],
   "source": [
    "class Film():\n",
    "    def __init__(self, baslik, yonetmen, sure):\n",
    "        self.baslik = baslik\n",
    "        self.yonetmen = yonetmen\n",
    "        self.sure = sure\n",
    "        print('Film objesi oluşturuldu.')\n",
    "\n",
    "    def __str__(self):\n",
    "        return f\"{self.baslik} by {self.yonetmen}\"\n",
    "\n",
    "    def __len__(self):\n",
    "        return self.sure\n",
    "\n",
    "f = Film(baslik = 'Lord of The Rings', yonetmen = 'Peter Jackson', sure = 179) "
   ]
  },
  {
   "cell_type": "code",
   "execution_count": 3,
   "metadata": {},
   "outputs": [
    {
     "name": "stdout",
     "output_type": "stream",
     "text": [
      "Lord of The Rings by Peter Jackson\n"
     ]
    }
   ],
   "source": [
    "print(f)"
   ]
  },
  {
   "cell_type": "code",
   "execution_count": 4,
   "metadata": {},
   "outputs": [
    {
     "name": "stdout",
     "output_type": "stream",
     "text": [
      "Lord of The Rings by Peter Jackson\n"
     ]
    }
   ],
   "source": [
    "print(str(f))"
   ]
  },
  {
   "cell_type": "code",
   "execution_count": 5,
   "metadata": {},
   "outputs": [
    {
     "name": "stdout",
     "output_type": "stream",
     "text": [
      "179\n"
     ]
    }
   ],
   "source": [
    "print(len(f))"
   ]
  },
  {
   "cell_type": "code",
   "execution_count": 6,
   "metadata": {},
   "outputs": [],
   "source": [
    "# Object Silme\n",
    "\n",
    "del f"
   ]
  },
  {
   "cell_type": "code",
   "execution_count": null,
   "metadata": {},
   "outputs": [],
   "source": []
  }
 ],
 "metadata": {
  "kernelspec": {
   "display_name": "Python 3",
   "language": "python",
   "name": "python3"
  },
  "language_info": {
   "codemirror_mode": {
    "name": "ipython",
    "version": 3
   },
   "file_extension": ".py",
   "mimetype": "text/x-python",
   "name": "python",
   "nbconvert_exporter": "python",
   "pygments_lexer": "ipython3",
   "version": "3.11.2"
  },
  "orig_nbformat": 4
 },
 "nbformat": 4,
 "nbformat_minor": 2
}

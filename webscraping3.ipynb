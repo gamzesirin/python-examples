{
 "cells": [
  {
   "cell_type": "code",
   "execution_count": 2,
   "id": "7174c218",
   "metadata": {},
   "outputs": [],
   "source": [
    "import requests # HTTP İsteği göndermemizi sağlar ve bize geri değer döndürür.\n",
    "\n",
    "from bs4 import BeautifulSoup # Sayfa içerisindeki html dökümanını parse(ayrıştırmak) etmemizi sağlar\n",
    "# ve ayrıştırdığımız sayfa içerisinde istediğimiz verileri arayıp kazımamızı sağlar.\n",
    "\n",
    "import pandas as pd "
   ]
  },
  {
   "cell_type": "code",
   "execution_count": 3,
   "id": "d1c6eadd",
   "metadata": {},
   "outputs": [],
   "source": [
    "url = 'https://academy.patika.dev/tr/paths/orta-seviye-veri-bilimi-patikasi'"
   ]
  },
  {
   "cell_type": "code",
   "execution_count": 4,
   "id": "d0c129dd",
   "metadata": {},
   "outputs": [],
   "source": [
    "response = requests.get(url)\n",
    "#print(response.status_code)"
   ]
  },
  {
   "cell_type": "code",
   "execution_count": 7,
   "id": "db6e6095",
   "metadata": {},
   "outputs": [
    {
     "data": {
      "text/plain": [
       "'Orta Seviye Veri Bilimi Eğitimi | Patika.devPathsOrta seviye veri bilimi patikasiOrta Seviye Veri Bilimi PatikasıVeri bilimi alanında kendini geliştirmen için Python\\'ın süper kütüphaneleri seni bekliyor. Python bilgini bu kütüphaneler ile daha ileri seviyeye taşıyacak ve süper projelere başlıyor olacaksın. Bu patikanın son modülünde oldukça kaliteli projeler seni bekliyor! Zaman kaybetmenden başlayalım!Patikaya başlaSon düzenleme: 19/04/202215926 Katılımcı47 Saatlik ders içeriği12 Alıştırma ve 57 testTopluluk desteğiOnline & ücretsiz360 Puan kazanDerslerİleri Python4.81İncele 0%Jupyter Notebook4.90İncele 0%Python-Numpy4.86İncele 0%Pandas-Veri Ön İşleme4.46İncele 0%Veri Görselleştirme4.82İncele 0%İstatistik4.97İncele 0%Yazılım Dünyasında Kariyer Basamakları4.80İncele 0%Veri Bilimi 1014.80İncele 0%Yazılım Mühendisliği 1014.66İncele 0%Veri Bilimi Projeleri4.92İncele 0%Freelance ve Remote Çalışma, İş Süreçleri4.94İncele 0%Orta Seviye Veri Bilimi PatikasıSertifikaHeyecanlı bir kariyere adım at👩\\u200d💻 Veri BilimciVeri bilimci; bilgi odaklı keşifler yapabilen, bulunduğu ortama dair mevcut durumu tanımlayan, sınıflandırıcı olan ve durum hakkında gelecekle ilgili tahminleri yazılım kullanarak yapabilen kişidir.📊 Kariyer potansiyeli Orta Seviye Türkiye\\'de ve dünyada gün geçtikçe gelişen bir alan. Bu patikayı içerikler bitirdikten sonra portföyündeki proje sayısını ve niteliklerini artırarak kısa sürede çalışmaya başlayabilirsin.\\ufeff💼 Patika bitirmek kariyerine nasıl yardımcı olacak?\"Neyi?\", \"Neden?\" yaptığımızı anlayarak veri bilimi hakkında geniş bir bakış açısı kazanacak ve iş hayatına adım atmaya hazır hale geleceksin.🏢 Patikanın iş ortaklarıPatika, Türkiye’de 250’den fazla şirket ile çalışıyor.\\xa0Patikaya başla15926 Katılımcı47 Saatlik ders içeriği12 Alıştırma ve 57 testTopluluk desteğiOnline & ücretsiz360 Puan kazan© 2021 Patika DevHakkımızdaİşverenler içinEkibe katılinfo@patika.devfacebooktwitterinstagramyoutubelinkedin'"
      ]
     },
     "execution_count": 7,
     "metadata": {},
     "output_type": "execute_result"
    }
   ],
   "source": [
    "icerik = BeautifulSoup(response.text, \"html.parser\")\n",
    "icerik.text.strip()"
   ]
  },
  {
   "cell_type": "code",
   "execution_count": 14,
   "id": "657d4428",
   "metadata": {},
   "outputs": [
    {
     "name": "stdout",
     "output_type": "stream",
     "text": [
      "[<span class=\"css-bv8vdy\"><a href=\"/tr/courses/ileri-python\">İleri Python</a></span>, <span class=\"css-bv8vdy\"><a href=\"/tr/courses/jupyter-notebook\">Jupyter Notebook</a></span>, <span class=\"css-bv8vdy\"><a href=\"/tr/courses/python-numpy\">Python-Numpy</a></span>, <span class=\"css-bv8vdy\"><a href=\"/tr/courses/pandas-veri-on-isleme\">Pandas-Veri Ön İşleme</a></span>, <span class=\"css-bv8vdy\"><a href=\"/tr/courses/veri-gorsellestirme\">Veri Görselleştirme</a></span>, <span class=\"css-bv8vdy\"><a href=\"/tr/courses/istatistik\">İstatistik</a></span>, <span class=\"css-bv8vdy\"><a href=\"/tr/courses/yazilim-dunyasinda-kariyer-basamaklari\">Yazılım Dünyasında Kariyer Basamakları</a></span>, <span class=\"css-bv8vdy\"><a href=\"/tr/courses/veri-bilimi-101\">Veri Bilimi 101</a></span>, <span class=\"css-bv8vdy\"><a href=\"/tr/courses/yazilim-muhendisligi-101\">Yazılım Mühendisliği 101</a></span>, <span class=\"css-bv8vdy\"><a href=\"/tr/courses/veri-bilimi-projeleri\">Veri Bilimi Projeleri</a></span>, <span class=\"css-bv8vdy\"><a href=\"/tr/courses/freelance-ve-remote-calisma-is-surecleri\">Freelance ve Remote Çalışma, İş Süreçleri</a></span>]\n"
     ]
    }
   ],
   "source": [
    "basliklar = icerik.find_all(\"span\", attrs={\"class\": \"css-bv8vdy\"})\n",
    "print(basliklar)"
   ]
  },
  {
   "cell_type": "code",
   "execution_count": 19,
   "id": "ff568f33",
   "metadata": {},
   "outputs": [
    {
     "name": "stdout",
     "output_type": "stream",
     "text": [
      "[<p class=\"chakra-text css-xofb8z\">4.81</p>, <p class=\"chakra-text css-xofb8z\">4.90</p>, <p class=\"chakra-text css-xofb8z\">4.86</p>, <p class=\"chakra-text css-xofb8z\">4.46</p>, <p class=\"chakra-text css-xofb8z\">4.82</p>, <p class=\"chakra-text css-xofb8z\">4.97</p>, <p class=\"chakra-text css-xofb8z\">4.80</p>, <p class=\"chakra-text css-xofb8z\">4.80</p>, <p class=\"chakra-text css-xofb8z\">4.66</p>, <p class=\"chakra-text css-xofb8z\">4.92</p>, <p class=\"chakra-text css-xofb8z\">4.94</p>]\n"
     ]
    }
   ],
   "source": [
    "puan = icerik.find_all(\"p\", attrs={\"class\": \"chakra-text css-xofb8z\"})\n",
    "print(puan)"
   ]
  },
  {
   "cell_type": "code",
   "execution_count": 24,
   "id": "990b1079",
   "metadata": {},
   "outputs": [],
   "source": [
    "baslik_liste = []\n",
    "puan_liste = []"
   ]
  },
  {
   "cell_type": "code",
   "execution_count": 25,
   "id": "03de65fa",
   "metadata": {},
   "outputs": [
    {
     "name": "stdout",
     "output_type": "stream",
     "text": [
      "['İleri Python', 'Jupyter Notebook', 'Python-Numpy', 'Pandas-Veri Ön İşleme', 'Veri Görselleştirme', 'İstatistik', 'Yazılım Dünyasında Kariyer Basamakları', 'Veri Bilimi 101', 'Yazılım Mühendisliği 101', 'Veri Bilimi Projeleri', 'Freelance ve Remote Çalışma, İş Süreçleri']\n"
     ]
    }
   ],
   "source": [
    "for baslik in basliklar:\n",
    "    baslik2 = baslik.text\n",
    "    baslik_liste.append(baslik2)\n",
    "print(baslik_liste)    "
   ]
  },
  {
   "cell_type": "code",
   "execution_count": 26,
   "id": "51099381",
   "metadata": {},
   "outputs": [
    {
     "name": "stdout",
     "output_type": "stream",
     "text": [
      "['4.81', '4.90', '4.86', '4.46', '4.82', '4.97', '4.80', '4.80', '4.66', '4.92', '4.94']\n"
     ]
    }
   ],
   "source": [
    "for p in puan:\n",
    "    p1 = p.text\n",
    "    puan_liste.append(p1)\n",
    "print(puan_liste)    "
   ]
  },
  {
   "cell_type": "code",
   "execution_count": 29,
   "id": "22d1e038",
   "metadata": {
    "scrolled": true
   },
   "outputs": [
    {
     "data": {
      "text/plain": [
       "{'Konu:': ['İleri Python',\n",
       "  'Jupyter Notebook',\n",
       "  'Python-Numpy',\n",
       "  'Pandas-Veri Ön İşleme',\n",
       "  'Veri Görselleştirme',\n",
       "  'İstatistik',\n",
       "  'Yazılım Dünyasında Kariyer Basamakları',\n",
       "  'Veri Bilimi 101',\n",
       "  'Yazılım Mühendisliği 101',\n",
       "  'Veri Bilimi Projeleri',\n",
       "  'Freelance ve Remote Çalışma, İş Süreçleri'],\n",
       " 'Puan:': ['4.81',\n",
       "  '4.90',\n",
       "  '4.86',\n",
       "  '4.46',\n",
       "  '4.82',\n",
       "  '4.97',\n",
       "  '4.80',\n",
       "  '4.80',\n",
       "  '4.66',\n",
       "  '4.92',\n",
       "  '4.94']}"
      ]
     },
     "execution_count": 29,
     "metadata": {},
     "output_type": "execute_result"
    }
   ],
   "source": [
    "datas = {\"Konu:\": baslik_liste,\n",
    "        \"Puan:\": puan_liste,}\n",
    "datas"
   ]
  },
  {
   "cell_type": "code",
   "execution_count": 28,
   "id": "54ec08dc",
   "metadata": {},
   "outputs": [
    {
     "data": {
      "text/html": [
       "<div>\n",
       "<style scoped>\n",
       "    .dataframe tbody tr th:only-of-type {\n",
       "        vertical-align: middle;\n",
       "    }\n",
       "\n",
       "    .dataframe tbody tr th {\n",
       "        vertical-align: top;\n",
       "    }\n",
       "\n",
       "    .dataframe thead th {\n",
       "        text-align: right;\n",
       "    }\n",
       "</style>\n",
       "<table border=\"1\" class=\"dataframe\">\n",
       "  <thead>\n",
       "    <tr style=\"text-align: right;\">\n",
       "      <th></th>\n",
       "      <th>Konu:</th>\n",
       "      <th>Puan:</th>\n",
       "    </tr>\n",
       "  </thead>\n",
       "  <tbody>\n",
       "    <tr>\n",
       "      <th>0</th>\n",
       "      <td>İleri Python</td>\n",
       "      <td>4.81</td>\n",
       "    </tr>\n",
       "    <tr>\n",
       "      <th>1</th>\n",
       "      <td>Jupyter Notebook</td>\n",
       "      <td>4.90</td>\n",
       "    </tr>\n",
       "    <tr>\n",
       "      <th>2</th>\n",
       "      <td>Python-Numpy</td>\n",
       "      <td>4.86</td>\n",
       "    </tr>\n",
       "    <tr>\n",
       "      <th>3</th>\n",
       "      <td>Pandas-Veri Ön İşleme</td>\n",
       "      <td>4.46</td>\n",
       "    </tr>\n",
       "    <tr>\n",
       "      <th>4</th>\n",
       "      <td>Veri Görselleştirme</td>\n",
       "      <td>4.82</td>\n",
       "    </tr>\n",
       "    <tr>\n",
       "      <th>5</th>\n",
       "      <td>İstatistik</td>\n",
       "      <td>4.97</td>\n",
       "    </tr>\n",
       "    <tr>\n",
       "      <th>6</th>\n",
       "      <td>Yazılım Dünyasında Kariyer Basamakları</td>\n",
       "      <td>4.80</td>\n",
       "    </tr>\n",
       "    <tr>\n",
       "      <th>7</th>\n",
       "      <td>Veri Bilimi 101</td>\n",
       "      <td>4.80</td>\n",
       "    </tr>\n",
       "    <tr>\n",
       "      <th>8</th>\n",
       "      <td>Yazılım Mühendisliği 101</td>\n",
       "      <td>4.66</td>\n",
       "    </tr>\n",
       "    <tr>\n",
       "      <th>9</th>\n",
       "      <td>Veri Bilimi Projeleri</td>\n",
       "      <td>4.92</td>\n",
       "    </tr>\n",
       "    <tr>\n",
       "      <th>10</th>\n",
       "      <td>Freelance ve Remote Çalışma, İş Süreçleri</td>\n",
       "      <td>4.94</td>\n",
       "    </tr>\n",
       "  </tbody>\n",
       "</table>\n",
       "</div>"
      ],
      "text/plain": [
       "                                        Konu: Puan:\n",
       "0                                İleri Python  4.81\n",
       "1                            Jupyter Notebook  4.90\n",
       "2                                Python-Numpy  4.86\n",
       "3                       Pandas-Veri Ön İşleme  4.46\n",
       "4                         Veri Görselleştirme  4.82\n",
       "5                                  İstatistik  4.97\n",
       "6      Yazılım Dünyasında Kariyer Basamakları  4.80\n",
       "7                             Veri Bilimi 101  4.80\n",
       "8                    Yazılım Mühendisliği 101  4.66\n",
       "9                       Veri Bilimi Projeleri  4.92\n",
       "10  Freelance ve Remote Çalışma, İş Süreçleri  4.94"
      ]
     },
     "execution_count": 28,
     "metadata": {},
     "output_type": "execute_result"
    }
   ],
   "source": [
    "df = pd.DataFrame(datas)\n",
    "df"
   ]
  }
 ],
 "metadata": {
  "kernelspec": {
   "display_name": "Python 3 (ipykernel)",
   "language": "python",
   "name": "python3"
  },
  "language_info": {
   "codemirror_mode": {
    "name": "ipython",
    "version": 3
   },
   "file_extension": ".py",
   "mimetype": "text/x-python",
   "name": "python",
   "nbconvert_exporter": "python",
   "pygments_lexer": "ipython3",
   "version": "3.11.2"
  }
 },
 "nbformat": 4,
 "nbformat_minor": 5
}

{
 "cells": [
  {
   "cell_type": "markdown",
   "id": "ea252767",
   "metadata": {},
   "source": [
    "# Data Types"
   ]
  },
  {
   "cell_type": "markdown",
   "id": "c1240d4a",
   "metadata": {},
   "source": [
    "- Integer\n",
    "- String\n",
    "- Float\n",
    "- Boollean"
   ]
  },
  {
   "cell_type": "code",
   "execution_count": 1,
   "id": "50083b4f",
   "metadata": {},
   "outputs": [
    {
     "name": "stdout",
     "output_type": "stream",
     "text": [
      "5\n"
     ]
    }
   ],
   "source": [
    "print(5)"
   ]
  },
  {
   "cell_type": "code",
   "execution_count": 2,
   "id": "bcd0f8e1",
   "metadata": {},
   "outputs": [
    {
     "name": "stdout",
     "output_type": "stream",
     "text": [
      "Hello World\n"
     ]
    }
   ],
   "source": [
    "print(\"Hello World\")"
   ]
  },
  {
   "cell_type": "code",
   "execution_count": 3,
   "id": "2b6013c8",
   "metadata": {},
   "outputs": [
    {
     "name": "stdout",
     "output_type": "stream",
     "text": [
      "4.6\n"
     ]
    }
   ],
   "source": [
    "print(4.6)"
   ]
  },
  {
   "cell_type": "code",
   "execution_count": 4,
   "id": "11eec4ef",
   "metadata": {},
   "outputs": [
    {
     "name": "stdout",
     "output_type": "stream",
     "text": [
      "True\n"
     ]
    }
   ],
   "source": [
    "print(True)"
   ]
  },
  {
   "cell_type": "code",
   "execution_count": 5,
   "id": "6cbe9f6d",
   "metadata": {},
   "outputs": [
    {
     "data": {
      "text/plain": [
       "int"
      ]
     },
     "execution_count": 5,
     "metadata": {},
     "output_type": "execute_result"
    }
   ],
   "source": [
    "type(5)"
   ]
  },
  {
   "cell_type": "code",
   "execution_count": 6,
   "id": "67ab165a",
   "metadata": {},
   "outputs": [
    {
     "data": {
      "text/plain": [
       "str"
      ]
     },
     "execution_count": 6,
     "metadata": {},
     "output_type": "execute_result"
    }
   ],
   "source": [
    "type(\"Hello World\")"
   ]
  },
  {
   "cell_type": "code",
   "execution_count": 7,
   "id": "5c5ce05b",
   "metadata": {},
   "outputs": [
    {
     "data": {
      "text/plain": [
       "float"
      ]
     },
     "execution_count": 7,
     "metadata": {},
     "output_type": "execute_result"
    }
   ],
   "source": [
    "type(4.6)"
   ]
  },
  {
   "cell_type": "code",
   "execution_count": 8,
   "id": "d90b4668",
   "metadata": {},
   "outputs": [
    {
     "data": {
      "text/plain": [
       "bool"
      ]
     },
     "execution_count": 8,
     "metadata": {},
     "output_type": "execute_result"
    }
   ],
   "source": [
    "type(True)"
   ]
  },
  {
   "cell_type": "code",
   "execution_count": 9,
   "id": "34c0870c",
   "metadata": {},
   "outputs": [
    {
     "data": {
      "text/plain": [
       "str"
      ]
     },
     "execution_count": 9,
     "metadata": {},
     "output_type": "execute_result"
    }
   ],
   "source": [
    "type(\"5\")"
   ]
  },
  {
   "cell_type": "code",
   "execution_count": 10,
   "id": "63d9674a",
   "metadata": {},
   "outputs": [
    {
     "data": {
      "text/plain": [
       "5.0"
      ]
     },
     "execution_count": 10,
     "metadata": {},
     "output_type": "execute_result"
    }
   ],
   "source": [
    "float(5)"
   ]
  },
  {
   "cell_type": "code",
   "execution_count": 11,
   "id": "415938f7",
   "metadata": {},
   "outputs": [
    {
     "data": {
      "text/plain": [
       "5"
      ]
     },
     "execution_count": 11,
     "metadata": {},
     "output_type": "execute_result"
    }
   ],
   "source": [
    "int(5.4)"
   ]
  },
  {
   "cell_type": "code",
   "execution_count": 12,
   "id": "5cbc804d",
   "metadata": {},
   "outputs": [
    {
     "data": {
      "text/plain": [
       "5"
      ]
     },
     "execution_count": 12,
     "metadata": {},
     "output_type": "execute_result"
    }
   ],
   "source": [
    "int(\"5\")"
   ]
  },
  {
   "cell_type": "code",
   "execution_count": 14,
   "id": "b161b8e0",
   "metadata": {},
   "outputs": [
    {
     "data": {
      "text/plain": [
       "False"
      ]
     },
     "execution_count": 14,
     "metadata": {},
     "output_type": "execute_result"
    }
   ],
   "source": [
    "bool(0)"
   ]
  },
  {
   "cell_type": "code",
   "execution_count": 15,
   "id": "56569942",
   "metadata": {},
   "outputs": [
    {
     "data": {
      "text/plain": [
       "True"
      ]
     },
     "execution_count": 15,
     "metadata": {},
     "output_type": "execute_result"
    }
   ],
   "source": [
    "bool(1)"
   ]
  },
  {
   "cell_type": "code",
   "execution_count": 16,
   "id": "67ee25c6",
   "metadata": {},
   "outputs": [
    {
     "data": {
      "text/plain": [
       "True"
      ]
     },
     "execution_count": 16,
     "metadata": {},
     "output_type": "execute_result"
    }
   ],
   "source": [
    "bool(5)"
   ]
  },
  {
   "cell_type": "code",
   "execution_count": 18,
   "id": "5a6d5c15",
   "metadata": {},
   "outputs": [
    {
     "data": {
      "text/plain": [
       "True"
      ]
     },
     "execution_count": 18,
     "metadata": {},
     "output_type": "execute_result"
    }
   ],
   "source": [
    "bool(\"Hi\")"
   ]
  },
  {
   "cell_type": "code",
   "execution_count": 22,
   "id": "44ab80c5",
   "metadata": {},
   "outputs": [
    {
     "data": {
      "text/plain": [
       "False"
      ]
     },
     "execution_count": 22,
     "metadata": {},
     "output_type": "execute_result"
    }
   ],
   "source": [
    "bool(\"\")"
   ]
  },
  {
   "cell_type": "code",
   "execution_count": 21,
   "id": "e9a7cee3",
   "metadata": {},
   "outputs": [
    {
     "data": {
      "text/plain": [
       "True"
      ]
     },
     "execution_count": 21,
     "metadata": {},
     "output_type": "execute_result"
    }
   ],
   "source": [
    "bool(\" \")"
   ]
  },
  {
   "cell_type": "markdown",
   "id": "0c3eae60",
   "metadata": {},
   "source": [
    "### Notlar:\n",
    "- String bir float değer int() fonksiyonu ile dönüşmez.\n",
    "\n",
    "- Sıfır dışında her rakam True değerini verir.\n",
    "\n",
    "- Boş bir string ifade dışında tüm string değerler True sonucunu verir"
   ]
  },
  {
   "cell_type": "markdown",
   "id": "9ae7c6d2",
   "metadata": {},
   "source": [
    "# Operatörler"
   ]
  },
  {
   "cell_type": "markdown",
   "id": "49059c0d",
   "metadata": {},
   "source": [
    "### Matematiksel Operatörler"
   ]
  },
  {
   "cell_type": "code",
   "execution_count": 23,
   "id": "a3988797",
   "metadata": {},
   "outputs": [
    {
     "data": {
      "text/plain": [
       "14"
      ]
     },
     "execution_count": 23,
     "metadata": {},
     "output_type": "execute_result"
    }
   ],
   "source": [
    "8+6"
   ]
  },
  {
   "cell_type": "code",
   "execution_count": 24,
   "id": "04d68d96",
   "metadata": {},
   "outputs": [
    {
     "data": {
      "text/plain": [
       "-6"
      ]
     },
     "execution_count": 24,
     "metadata": {},
     "output_type": "execute_result"
    }
   ],
   "source": [
    "19-25"
   ]
  },
  {
   "cell_type": "code",
   "execution_count": 25,
   "id": "c474f3de",
   "metadata": {},
   "outputs": [
    {
     "data": {
      "text/plain": [
       "21"
      ]
     },
     "execution_count": 25,
     "metadata": {},
     "output_type": "execute_result"
    }
   ],
   "source": [
    "7*3"
   ]
  },
  {
   "cell_type": "code",
   "execution_count": 26,
   "id": "e3b71576",
   "metadata": {},
   "outputs": [
    {
     "data": {
      "text/plain": [
       "6.333333333333333"
      ]
     },
     "execution_count": 26,
     "metadata": {},
     "output_type": "execute_result"
    }
   ],
   "source": [
    "19/3"
   ]
  },
  {
   "cell_type": "code",
   "execution_count": 27,
   "id": "1fd3aaa0",
   "metadata": {},
   "outputs": [
    {
     "data": {
      "text/plain": [
       "3"
      ]
     },
     "execution_count": 27,
     "metadata": {},
     "output_type": "execute_result"
    }
   ],
   "source": [
    "#mod alma\n",
    "73%5"
   ]
  },
  {
   "cell_type": "code",
   "execution_count": 29,
   "id": "c2f25f24",
   "metadata": {},
   "outputs": [
    {
     "data": {
      "text/plain": [
       "64"
      ]
     },
     "execution_count": 29,
     "metadata": {},
     "output_type": "execute_result"
    }
   ],
   "source": [
    "#Üs alma\n",
    "4**3"
   ]
  },
  {
   "cell_type": "code",
   "execution_count": 30,
   "id": "0c45c599",
   "metadata": {},
   "outputs": [
    {
     "data": {
      "text/plain": [
       "6"
      ]
     },
     "execution_count": 30,
     "metadata": {},
     "output_type": "execute_result"
    }
   ],
   "source": [
    "#tam bölme\n",
    "19//3"
   ]
  },
  {
   "cell_type": "code",
   "execution_count": 31,
   "id": "e449d04a",
   "metadata": {},
   "outputs": [
    {
     "data": {
      "text/plain": [
       "'HiKod'"
      ]
     },
     "execution_count": 31,
     "metadata": {},
     "output_type": "execute_result"
    }
   ],
   "source": [
    "\"Hi\"+\"Kod\""
   ]
  },
  {
   "cell_type": "code",
   "execution_count": 32,
   "id": "04883175",
   "metadata": {},
   "outputs": [
    {
     "data": {
      "text/plain": [
       "'Hi Kod'"
      ]
     },
     "execution_count": 32,
     "metadata": {},
     "output_type": "execute_result"
    }
   ],
   "source": [
    "\"Hi\"+\" Kod\""
   ]
  },
  {
   "cell_type": "code",
   "execution_count": 33,
   "id": "210ca11a",
   "metadata": {},
   "outputs": [
    {
     "data": {
      "text/plain": [
       "'129'"
      ]
     },
     "execution_count": 33,
     "metadata": {},
     "output_type": "execute_result"
    }
   ],
   "source": [
    "\"12\"+\"9\""
   ]
  },
  {
   "cell_type": "code",
   "execution_count": 34,
   "id": "964cdf85",
   "metadata": {},
   "outputs": [
    {
     "data": {
      "text/plain": [
       "'Hi-Kod Hi-Kod Hi-Kod '"
      ]
     },
     "execution_count": 34,
     "metadata": {},
     "output_type": "execute_result"
    }
   ],
   "source": [
    "\"Hi-Kod \" * 3"
   ]
  },
  {
   "cell_type": "markdown",
   "id": "1e3f84f0",
   "metadata": {},
   "source": [
    "### Atama Operatörleri"
   ]
  },
  {
   "cell_type": "code",
   "execution_count": 35,
   "id": "098dcaad",
   "metadata": {},
   "outputs": [
    {
     "data": {
      "text/plain": [
       "23"
      ]
     },
     "execution_count": 35,
     "metadata": {},
     "output_type": "execute_result"
    }
   ],
   "source": [
    "ahmet = 23\n",
    "ahmet"
   ]
  },
  {
   "cell_type": "code",
   "execution_count": 36,
   "id": "a8db1897",
   "metadata": {},
   "outputs": [],
   "source": [
    "ayşe = 21"
   ]
  },
  {
   "cell_type": "code",
   "execution_count": 37,
   "id": "797d5556",
   "metadata": {},
   "outputs": [
    {
     "data": {
      "text/plain": [
       "21"
      ]
     },
     "execution_count": 37,
     "metadata": {},
     "output_type": "execute_result"
    }
   ],
   "source": [
    "ayşe"
   ]
  },
  {
   "cell_type": "code",
   "execution_count": 38,
   "id": "f37377fe",
   "metadata": {},
   "outputs": [
    {
     "data": {
      "text/plain": [
       "25"
      ]
     },
     "execution_count": 38,
     "metadata": {},
     "output_type": "execute_result"
    }
   ],
   "source": [
    "ahmet += 2\n",
    "ahmet"
   ]
  },
  {
   "cell_type": "code",
   "execution_count": 39,
   "id": "c4ff8435",
   "metadata": {},
   "outputs": [],
   "source": [
    "ayşe -= 3"
   ]
  },
  {
   "cell_type": "code",
   "execution_count": 40,
   "id": "5147c3b5",
   "metadata": {},
   "outputs": [
    {
     "data": {
      "text/plain": [
       "18"
      ]
     },
     "execution_count": 40,
     "metadata": {},
     "output_type": "execute_result"
    }
   ],
   "source": [
    "ayşe"
   ]
  },
  {
   "cell_type": "markdown",
   "id": "f227f3b1",
   "metadata": {},
   "source": [
    "### Karşılaştırma Operatörleri"
   ]
  },
  {
   "cell_type": "code",
   "execution_count": 41,
   "id": "af6cd978",
   "metadata": {},
   "outputs": [],
   "source": [
    "melek = 24\n",
    "sedat = 36\n",
    "defne = 18\n",
    "emre = 28\n",
    "seda = 24"
   ]
  },
  {
   "cell_type": "code",
   "execution_count": 122,
   "id": "1c586373",
   "metadata": {},
   "outputs": [
    {
     "data": {
      "text/plain": [
       "True"
      ]
     },
     "execution_count": 122,
     "metadata": {},
     "output_type": "execute_result"
    }
   ],
   "source": [
    "24 == 24"
   ]
  },
  {
   "cell_type": "code",
   "execution_count": 123,
   "id": "9b642b6b",
   "metadata": {},
   "outputs": [
    {
     "data": {
      "text/plain": [
       "False"
      ]
     },
     "execution_count": 123,
     "metadata": {},
     "output_type": "execute_result"
    }
   ],
   "source": [
    "24 == 36"
   ]
  },
  {
   "cell_type": "code",
   "execution_count": 124,
   "id": "d465ff49",
   "metadata": {},
   "outputs": [
    {
     "data": {
      "text/plain": [
       "True"
      ]
     },
     "execution_count": 124,
     "metadata": {},
     "output_type": "execute_result"
    }
   ],
   "source": [
    "24 != 36"
   ]
  },
  {
   "cell_type": "code",
   "execution_count": 125,
   "id": "5d3013e0",
   "metadata": {},
   "outputs": [
    {
     "data": {
      "text/plain": [
       "True"
      ]
     },
     "execution_count": 125,
     "metadata": {},
     "output_type": "execute_result"
    }
   ],
   "source": [
    "18 != 28"
   ]
  },
  {
   "cell_type": "code",
   "execution_count": 126,
   "id": "56a9e65e",
   "metadata": {},
   "outputs": [
    {
     "data": {
      "text/plain": [
       "True"
      ]
     },
     "execution_count": 126,
     "metadata": {},
     "output_type": "execute_result"
    }
   ],
   "source": [
    "24 > 18"
   ]
  },
  {
   "cell_type": "code",
   "execution_count": 127,
   "id": "b3ffde5d",
   "metadata": {},
   "outputs": [
    {
     "data": {
      "text/plain": [
       "False"
      ]
     },
     "execution_count": 127,
     "metadata": {},
     "output_type": "execute_result"
    }
   ],
   "source": [
    "28 > 36"
   ]
  },
  {
   "cell_type": "code",
   "execution_count": 51,
   "id": "ebfea081",
   "metadata": {},
   "outputs": [
    {
     "data": {
      "text/plain": [
       "True"
      ]
     },
     "execution_count": 51,
     "metadata": {},
     "output_type": "execute_result"
    }
   ],
   "source": [
    "18 <= 36"
   ]
  },
  {
   "cell_type": "code",
   "execution_count": 52,
   "id": "47e70843",
   "metadata": {},
   "outputs": [
    {
     "data": {
      "text/plain": [
       "True"
      ]
     },
     "execution_count": 52,
     "metadata": {},
     "output_type": "execute_result"
    }
   ],
   "source": [
    "42 <= 42"
   ]
  },
  {
   "cell_type": "markdown",
   "id": "6fc7568d",
   "metadata": {},
   "source": [
    "### Mantıksal Operatörler"
   ]
  },
  {
   "cell_type": "code",
   "execution_count": 62,
   "id": "c3a94139",
   "metadata": {},
   "outputs": [],
   "source": [
    "x = 10"
   ]
  },
  {
   "cell_type": "code",
   "execution_count": 63,
   "id": "0ba0214f",
   "metadata": {},
   "outputs": [
    {
     "data": {
      "text/plain": [
       "True"
      ]
     },
     "execution_count": 63,
     "metadata": {},
     "output_type": "execute_result"
    }
   ],
   "source": [
    "x < 12 and x > 4"
   ]
  },
  {
   "cell_type": "code",
   "execution_count": 64,
   "id": "f602bf96",
   "metadata": {},
   "outputs": [
    {
     "data": {
      "text/plain": [
       "False"
      ]
     },
     "execution_count": 64,
     "metadata": {},
     "output_type": "execute_result"
    }
   ],
   "source": [
    "x < 9 and x < 14"
   ]
  },
  {
   "cell_type": "code",
   "execution_count": 65,
   "id": "218f5f4b",
   "metadata": {},
   "outputs": [
    {
     "data": {
      "text/plain": [
       "True"
      ]
     },
     "execution_count": 65,
     "metadata": {},
     "output_type": "execute_result"
    }
   ],
   "source": [
    "x < 9 or x < 14"
   ]
  },
  {
   "cell_type": "code",
   "execution_count": 66,
   "id": "8fec60d4",
   "metadata": {},
   "outputs": [
    {
     "data": {
      "text/plain": [
       "True"
      ]
     },
     "execution_count": 66,
     "metadata": {},
     "output_type": "execute_result"
    }
   ],
   "source": [
    "(17 < 20) and (26 > 19)"
   ]
  },
  {
   "cell_type": "code",
   "execution_count": 60,
   "id": "c24a2fd2",
   "metadata": {},
   "outputs": [
    {
     "data": {
      "text/plain": [
       "False"
      ]
     },
     "execution_count": 60,
     "metadata": {},
     "output_type": "execute_result"
    }
   ],
   "source": [
    "(45 < 50) and (24 < 19)"
   ]
  },
  {
   "cell_type": "code",
   "execution_count": 61,
   "id": "cb834ed2",
   "metadata": {},
   "outputs": [
    {
     "data": {
      "text/plain": [
       "True"
      ]
     },
     "execution_count": 61,
     "metadata": {},
     "output_type": "execute_result"
    }
   ],
   "source": [
    "(45 < 50) or (24 < 19)"
   ]
  },
  {
   "cell_type": "code",
   "execution_count": 67,
   "id": "d6e6c0c5",
   "metadata": {},
   "outputs": [
    {
     "data": {
      "text/plain": [
       "False"
      ]
     },
     "execution_count": 67,
     "metadata": {},
     "output_type": "execute_result"
    }
   ],
   "source": [
    "not(x < 12 and x > 4)"
   ]
  },
  {
   "cell_type": "code",
   "execution_count": 68,
   "id": "bf1f2524",
   "metadata": {},
   "outputs": [
    {
     "data": {
      "text/plain": [
       "False"
      ]
     },
     "execution_count": 68,
     "metadata": {},
     "output_type": "execute_result"
    }
   ],
   "source": [
    "not((45 < 50) or (24 < 19))"
   ]
  },
  {
   "cell_type": "markdown",
   "id": "8cf0fadb",
   "metadata": {},
   "source": [
    "### Üyelik Operatörleri"
   ]
  },
  {
   "cell_type": "code",
   "execution_count": 69,
   "id": "077b0ee5",
   "metadata": {},
   "outputs": [
    {
     "data": {
      "text/plain": [
       "'Hi-Kod Veri Bilimi'"
      ]
     },
     "execution_count": 69,
     "metadata": {},
     "output_type": "execute_result"
    }
   ],
   "source": [
    "atolye = \"Hi-Kod Veri Bilimi\"\n",
    "atolye"
   ]
  },
  {
   "cell_type": "code",
   "execution_count": 70,
   "id": "48a0872c",
   "metadata": {},
   "outputs": [
    {
     "data": {
      "text/plain": [
       "True"
      ]
     },
     "execution_count": 70,
     "metadata": {},
     "output_type": "execute_result"
    }
   ],
   "source": [
    "\"i\" in atolye"
   ]
  },
  {
   "cell_type": "code",
   "execution_count": 71,
   "id": "cf30773b",
   "metadata": {},
   "outputs": [
    {
     "data": {
      "text/plain": [
       "False"
      ]
     },
     "execution_count": 71,
     "metadata": {},
     "output_type": "execute_result"
    }
   ],
   "source": [
    "\"v\" in atolye"
   ]
  },
  {
   "cell_type": "code",
   "execution_count": 72,
   "id": "a6a80f94",
   "metadata": {},
   "outputs": [
    {
     "data": {
      "text/plain": [
       "True"
      ]
     },
     "execution_count": 72,
     "metadata": {},
     "output_type": "execute_result"
    }
   ],
   "source": [
    "\"V\" in atolye"
   ]
  },
  {
   "cell_type": "code",
   "execution_count": 73,
   "id": "fd503ad9",
   "metadata": {},
   "outputs": [
    {
     "data": {
      "text/plain": [
       "True"
      ]
     },
     "execution_count": 73,
     "metadata": {},
     "output_type": "execute_result"
    }
   ],
   "source": [
    "not \"v\" in atolye"
   ]
  },
  {
   "cell_type": "code",
   "execution_count": 74,
   "id": "1fcd5cf0",
   "metadata": {},
   "outputs": [
    {
     "data": {
      "text/plain": [
       "True"
      ]
     },
     "execution_count": 74,
     "metadata": {},
     "output_type": "execute_result"
    }
   ],
   "source": [
    "not \"a\" in atolye "
   ]
  },
  {
   "cell_type": "code",
   "execution_count": null,
   "id": "012abb00",
   "metadata": {},
   "outputs": [],
   "source": []
  },
  {
   "cell_type": "code",
   "execution_count": 75,
   "id": "43a85527",
   "metadata": {},
   "outputs": [
    {
     "data": {
      "text/plain": [
       "11"
      ]
     },
     "execution_count": 75,
     "metadata": {},
     "output_type": "execute_result"
    }
   ],
   "source": [
    "#len fonksiyonu string ifadelerin uzunluğunu ölçer\n",
    "\"65198223647\"\n",
    "len(\"65198223647\")"
   ]
  },
  {
   "cell_type": "code",
   "execution_count": 76,
   "id": "408563b8",
   "metadata": {},
   "outputs": [
    {
     "data": {
      "text/plain": [
       "11"
      ]
     },
     "execution_count": 76,
     "metadata": {},
     "output_type": "execute_result"
    }
   ],
   "source": [
    "tc_no = \"65198223647\"\n",
    "len(tc_no)"
   ]
  },
  {
   "cell_type": "code",
   "execution_count": 77,
   "id": "92fb788b",
   "metadata": {},
   "outputs": [],
   "source": [
    "musteri_adi = \"muserrefozkan\"\n",
    "musteri_no = \"259483\""
   ]
  },
  {
   "cell_type": "code",
   "execution_count": 78,
   "id": "52dfc10d",
   "metadata": {},
   "outputs": [
    {
     "data": {
      "text/plain": [
       "13"
      ]
     },
     "execution_count": 78,
     "metadata": {},
     "output_type": "execute_result"
    }
   ],
   "source": [
    "len(musteri_adi)"
   ]
  },
  {
   "cell_type": "code",
   "execution_count": 82,
   "id": "a6fee72f",
   "metadata": {},
   "outputs": [
    {
     "data": {
      "text/plain": [
       "6"
      ]
     },
     "execution_count": 82,
     "metadata": {},
     "output_type": "execute_result"
    }
   ],
   "source": [
    "len(musteri_no)"
   ]
  },
  {
   "cell_type": "code",
   "execution_count": 80,
   "id": "6e6b8893",
   "metadata": {},
   "outputs": [
    {
     "data": {
      "text/plain": [
       "19"
      ]
     },
     "execution_count": 80,
     "metadata": {},
     "output_type": "execute_result"
    }
   ],
   "source": [
    "len(musteri_adi)+len(musteri_no)"
   ]
  },
  {
   "cell_type": "code",
   "execution_count": 83,
   "id": "5d6bf0c8",
   "metadata": {},
   "outputs": [
    {
     "name": "stdout",
     "output_type": "stream",
     "text": [
      "<class 'str'>\n",
      "<class 'int'>\n"
     ]
    }
   ],
   "source": [
    "print(type(musteri_no))\n",
    "print(type(len(musteri_no)))"
   ]
  },
  {
   "cell_type": "code",
   "execution_count": 84,
   "id": "ba5a7acf",
   "metadata": {},
   "outputs": [
    {
     "data": {
      "text/plain": [
       "'Hi-Kod Veri Bilimi'"
      ]
     },
     "execution_count": 84,
     "metadata": {},
     "output_type": "execute_result"
    }
   ],
   "source": [
    "#split \n",
    "atolye"
   ]
  },
  {
   "cell_type": "code",
   "execution_count": 85,
   "id": "42794c7a",
   "metadata": {},
   "outputs": [
    {
     "data": {
      "text/plain": [
       "['Hi-Kod', 'Veri', 'Bilimi']"
      ]
     },
     "execution_count": 85,
     "metadata": {},
     "output_type": "execute_result"
    }
   ],
   "source": [
    "atolye.split()"
   ]
  },
  {
   "cell_type": "code",
   "execution_count": 86,
   "id": "8e04c97a",
   "metadata": {},
   "outputs": [],
   "source": [
    "liste =atolye.split()"
   ]
  },
  {
   "cell_type": "code",
   "execution_count": 87,
   "id": "48680b43",
   "metadata": {},
   "outputs": [
    {
     "data": {
      "text/plain": [
       "['Hi-Kod', 'Veri', 'Bilimi']"
      ]
     },
     "execution_count": 87,
     "metadata": {},
     "output_type": "execute_result"
    }
   ],
   "source": [
    "liste"
   ]
  },
  {
   "cell_type": "code",
   "execution_count": 88,
   "id": "143aff24",
   "metadata": {},
   "outputs": [],
   "source": [
    "liste2 = atolye.split(\"i\")"
   ]
  },
  {
   "cell_type": "code",
   "execution_count": 89,
   "id": "cf48d8fa",
   "metadata": {},
   "outputs": [
    {
     "data": {
      "text/plain": [
       "['H', '-Kod Ver', ' B', 'l', 'm', '']"
      ]
     },
     "execution_count": 89,
     "metadata": {},
     "output_type": "execute_result"
    }
   ],
   "source": [
    "liste2"
   ]
  },
  {
   "cell_type": "code",
   "execution_count": 91,
   "id": "9739ebce",
   "metadata": {},
   "outputs": [
    {
     "data": {
      "text/plain": [
       "'a'"
      ]
     },
     "execution_count": 91,
     "metadata": {},
     "output_type": "execute_result"
    }
   ],
   "source": [
    "#indexing,silicing\n",
    "harfler = \"abcdefghijklmn\"\n",
    "harfler[0]"
   ]
  },
  {
   "cell_type": "code",
   "execution_count": 92,
   "id": "30b1cddd",
   "metadata": {},
   "outputs": [
    {
     "data": {
      "text/plain": [
       "'b'"
      ]
     },
     "execution_count": 92,
     "metadata": {},
     "output_type": "execute_result"
    }
   ],
   "source": [
    "harfler[1]"
   ]
  },
  {
   "cell_type": "code",
   "execution_count": 93,
   "id": "195252c7",
   "metadata": {},
   "outputs": [
    {
     "data": {
      "text/plain": [
       "'c'"
      ]
     },
     "execution_count": 93,
     "metadata": {},
     "output_type": "execute_result"
    }
   ],
   "source": [
    "harfler[2]"
   ]
  },
  {
   "cell_type": "code",
   "execution_count": 95,
   "id": "adc1bbd2",
   "metadata": {},
   "outputs": [
    {
     "data": {
      "text/plain": [
       "'e'"
      ]
     },
     "execution_count": 95,
     "metadata": {},
     "output_type": "execute_result"
    }
   ],
   "source": [
    "#e harfine ulaşalım\n",
    "harfler[4]"
   ]
  },
  {
   "cell_type": "code",
   "execution_count": 94,
   "id": "15043d73",
   "metadata": {},
   "outputs": [
    {
     "data": {
      "text/plain": [
       "'i'"
      ]
     },
     "execution_count": 94,
     "metadata": {},
     "output_type": "execute_result"
    }
   ],
   "source": [
    "#i harfine ulaşalım\n",
    "harfler[8]"
   ]
  },
  {
   "cell_type": "code",
   "execution_count": 96,
   "id": "7434b212",
   "metadata": {},
   "outputs": [
    {
     "data": {
      "text/plain": [
       "'n'"
      ]
     },
     "execution_count": 96,
     "metadata": {},
     "output_type": "execute_result"
    }
   ],
   "source": [
    "harfler[-1]"
   ]
  },
  {
   "cell_type": "code",
   "execution_count": 97,
   "id": "68226362",
   "metadata": {},
   "outputs": [
    {
     "data": {
      "text/plain": [
       "'m'"
      ]
     },
     "execution_count": 97,
     "metadata": {},
     "output_type": "execute_result"
    }
   ],
   "source": [
    "harfler[-2]"
   ]
  },
  {
   "cell_type": "code",
   "execution_count": 98,
   "id": "3879148e",
   "metadata": {},
   "outputs": [
    {
     "data": {
      "text/plain": [
       "'i'"
      ]
     },
     "execution_count": 98,
     "metadata": {},
     "output_type": "execute_result"
    }
   ],
   "source": [
    "#i harfine ulaşalım\n",
    "harfler[-6]"
   ]
  },
  {
   "cell_type": "code",
   "execution_count": 100,
   "id": "63727e6c",
   "metadata": {},
   "outputs": [
    {
     "data": {
      "text/plain": [
       "'abcdefghijklmn'"
      ]
     },
     "execution_count": 100,
     "metadata": {},
     "output_type": "execute_result"
    }
   ],
   "source": [
    "harfler"
   ]
  },
  {
   "cell_type": "code",
   "execution_count": 99,
   "id": "716ddfd7",
   "metadata": {},
   "outputs": [
    {
     "data": {
      "text/plain": [
       "'abcde'"
      ]
     },
     "execution_count": 99,
     "metadata": {},
     "output_type": "execute_result"
    }
   ],
   "source": [
    "harfler[0:5]"
   ]
  },
  {
   "cell_type": "code",
   "execution_count": 110,
   "id": "9b90839e",
   "metadata": {},
   "outputs": [
    {
     "data": {
      "text/plain": [
       "'efg'"
      ]
     },
     "execution_count": 110,
     "metadata": {},
     "output_type": "execute_result"
    }
   ],
   "source": [
    "harfler[4:7]"
   ]
  },
  {
   "cell_type": "code",
   "execution_count": 101,
   "id": "3ad498fc",
   "metadata": {},
   "outputs": [
    {
     "data": {
      "text/plain": [
       "'fghij'"
      ]
     },
     "execution_count": 101,
     "metadata": {},
     "output_type": "execute_result"
    }
   ],
   "source": [
    "harfler[5:10]"
   ]
  },
  {
   "cell_type": "code",
   "execution_count": 102,
   "id": "89143c47",
   "metadata": {},
   "outputs": [
    {
     "data": {
      "text/plain": [
       "'acegikm'"
      ]
     },
     "execution_count": 102,
     "metadata": {},
     "output_type": "execute_result"
    }
   ],
   "source": [
    "harfler[::2]"
   ]
  },
  {
   "cell_type": "code",
   "execution_count": 111,
   "id": "a949e27f",
   "metadata": {},
   "outputs": [
    {
     "name": "stdout",
     "output_type": "stream",
     "text": [
      "Adınız:Esra\n"
     ]
    },
    {
     "data": {
      "text/plain": [
       "'Esra'"
      ]
     },
     "execution_count": 111,
     "metadata": {},
     "output_type": "execute_result"
    }
   ],
   "source": [
    "#input kullanıcıdan değer almak için kullanılır\n",
    "input(\"Adınız:\")"
   ]
  },
  {
   "cell_type": "code",
   "execution_count": 112,
   "id": "7cb38721",
   "metadata": {},
   "outputs": [
    {
     "name": "stdout",
     "output_type": "stream",
     "text": [
      "Adınız:Esra\n"
     ]
    }
   ],
   "source": [
    "isim = input(\"Adınız:\")"
   ]
  },
  {
   "cell_type": "code",
   "execution_count": 113,
   "id": "21713771",
   "metadata": {},
   "outputs": [
    {
     "data": {
      "text/plain": [
       "'Esra'"
      ]
     },
     "execution_count": 113,
     "metadata": {},
     "output_type": "execute_result"
    }
   ],
   "source": [
    "isim"
   ]
  },
  {
   "cell_type": "code",
   "execution_count": 114,
   "id": "20d07faa",
   "metadata": {},
   "outputs": [
    {
     "name": "stdout",
     "output_type": "stream",
     "text": [
      "Yaşiniz: 24\n",
      "24\n"
     ]
    }
   ],
   "source": [
    "age = input(\"Yaşiniz: \")\n",
    "print(age)"
   ]
  },
  {
   "cell_type": "code",
   "execution_count": 118,
   "id": "75e41532",
   "metadata": {},
   "outputs": [
    {
     "data": {
      "text/plain": [
       "str"
      ]
     },
     "execution_count": 118,
     "metadata": {},
     "output_type": "execute_result"
    }
   ],
   "source": [
    "type(age)"
   ]
  },
  {
   "cell_type": "code",
   "execution_count": 119,
   "id": "5eadfd9f",
   "metadata": {},
   "outputs": [
    {
     "data": {
      "text/plain": [
       "'24'"
      ]
     },
     "execution_count": 119,
     "metadata": {},
     "output_type": "execute_result"
    }
   ],
   "source": [
    "age"
   ]
  },
  {
   "cell_type": "code",
   "execution_count": 120,
   "id": "303f57e4",
   "metadata": {},
   "outputs": [
    {
     "data": {
      "text/plain": [
       "29"
      ]
     },
     "execution_count": 120,
     "metadata": {},
     "output_type": "execute_result"
    }
   ],
   "source": [
    "int(age) + 5"
   ]
  },
  {
   "cell_type": "markdown",
   "id": "bd0f726d",
   "metadata": {},
   "source": [
    "Değişken adları;\n",
    "- Değişken adları sayı ile başlayamaz.\n",
    "- Değişken adları ya bir alfabe harfiyle ya da _ işaretiyle başlamalıdır.\n",
    "- Değişken adı seçilirken türkçe karakter kullanmamaya dikkat edilmelidir.(Kullanılması sorun değil ama tercih edilmez.)\n",
    "- Pythonda özel anlam ifade eden sözcükler değişken adı olarak kullanılamaz(for,elif,list)"
   ]
  }
 ],
 "metadata": {
  "kernelspec": {
   "display_name": "Python 3 (ipykernel)",
   "language": "python",
   "name": "python3"
  },
  "language_info": {
   "codemirror_mode": {
    "name": "ipython",
    "version": 3
   },
   "file_extension": ".py",
   "mimetype": "text/x-python",
   "name": "python",
   "nbconvert_exporter": "python",
   "pygments_lexer": "ipython3",
   "version": "3.9.12"
  }
 },
 "nbformat": 4,
 "nbformat_minor": 5
}

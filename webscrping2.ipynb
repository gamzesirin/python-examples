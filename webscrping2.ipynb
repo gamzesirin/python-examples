{
 "cells": [
  {
   "cell_type": "code",
   "execution_count": 4,
   "metadata": {},
   "outputs": [
    {
     "name": "stdout",
     "output_type": "stream",
     "text": [
      "Requirement already satisfied: requests in c:\\users\\gamze şirin\\appdata\\local\\programs\\python\\python311\\lib\\site-packages (2.28.2)Note: you may need to restart the kernel to use updated packages.\n",
      "\n",
      "Requirement already satisfied: charset-normalizer<4,>=2 in c:\\users\\gamze şirin\\appdata\\local\\programs\\python\\python311\\lib\\site-packages (from requests) (3.1.0)\n",
      "Requirement already satisfied: idna<4,>=2.5 in c:\\users\\gamze şirin\\appdata\\local\\programs\\python\\python311\\lib\\site-packages (from requests) (3.4)\n",
      "Requirement already satisfied: urllib3<1.27,>=1.21.1 in c:\\users\\gamze şirin\\appdata\\local\\programs\\python\\python311\\lib\\site-packages (from requests) (1.26.15)\n",
      "Requirement already satisfied: certifi>=2017.4.17 in c:\\users\\gamze şirin\\appdata\\local\\programs\\python\\python311\\lib\\site-packages (from requests) (2022.12.7)\n"
     ]
    },
    {
     "name": "stderr",
     "output_type": "stream",
     "text": [
      "\n",
      "[notice] A new release of pip available: 22.3.1 -> 23.1\n",
      "[notice] To update, run: python.exe -m pip install --upgrade pip\n"
     ]
    },
    {
     "name": "stdout",
     "output_type": "stream",
     "text": [
      "Requirement already satisfied: beautifulsoup4 in c:\\users\\gamze şirin\\appdata\\local\\programs\\python\\python311\\lib\\site-packages (4.12.2)\n",
      "Requirement already satisfied: soupsieve>1.2 in c:\\users\\gamze şirin\\appdata\\local\\programs\\python\\python311\\lib\\site-packages (from beautifulsoup4) (2.4.1)\n",
      "Note: you may need to restart the kernel to use updated packages.\n"
     ]
    },
    {
     "name": "stderr",
     "output_type": "stream",
     "text": [
      "\n",
      "[notice] A new release of pip available: 22.3.1 -> 23.1\n",
      "[notice] To update, run: python.exe -m pip install --upgrade pip\n"
     ]
    },
    {
     "name": "stdout",
     "output_type": "stream",
     "text": [
      "Requirement already satisfied: openpyxl in c:\\users\\gamze şirin\\appdata\\local\\programs\\python\\python311\\lib\\site-packages (3.1.2)\n",
      "Requirement already satisfied: et-xmlfile in c:\\users\\gamze şirin\\appdata\\local\\programs\\python\\python311\\lib\\site-packages (from openpyxl) (1.1.0)\n"
     ]
    },
    {
     "name": "stderr",
     "output_type": "stream",
     "text": [
      "\n",
      "[notice] A new release of pip available: 22.3.1 -> 23.1\n",
      "[notice] To update, run: python.exe -m pip install --upgrade pip\n"
     ]
    }
   ],
   "source": [
    "%pip install requests\n",
    "%pip install beautifulsoup4\n",
    "!pip install openpyxl\n",
    "import requests # HTTP İsteği göndermemizi sağlar ve bize geri değer döndürür.\n",
    "\n",
    "from bs4 import BeautifulSoup # Sayfa içerisindeki html dökümanını parse(ayrıştırmak) etmemizi sağlar\n",
    "# ve ayrıştırdığımız sayfa içerisinde istediğimiz verileri arayıp kazımamızı sağlar.\n",
    "\n",
    "import pandas as pd"
   ]
  },
  {
   "cell_type": "code",
   "execution_count": 8,
   "metadata": {},
   "outputs": [],
   "source": [
    "url='https://www.koton.com/genc-kadin-cok-satanlar/'"
   ]
  },
  {
   "cell_type": "code",
   "execution_count": 9,
   "metadata": {},
   "outputs": [
    {
     "name": "stdout",
     "output_type": "stream",
     "text": [
      "200\n"
     ]
    }
   ],
   "source": [
    "response=requests.get(url)\n",
    "print(response.status_code)"
   ]
  },
  {
   "cell_type": "code",
   "execution_count": 10,
   "metadata": {},
   "outputs": [],
   "source": [
    "icerik = BeautifulSoup(response.text, 'html.parser') "
   ]
  },
  {
   "cell_type": "code",
   "execution_count": 39,
   "metadata": {},
   "outputs": [],
   "source": [
    "basliklar = icerik.find_all(\"h2\", attrs={\"class\" : \"product-item__info-name\"})\n",
    "başlıkliste = [] \n",
    "for baslik in basliklar: \n",
    "    basliklar = baslik.text.strip()\n",
    "    başlıkliste.append(basliklar)"
   ]
  },
  {
   "cell_type": "code",
   "execution_count": 37,
   "metadata": {},
   "outputs": [],
   "source": [
    "fiyatlar=icerik.find_all(\"div\", attrs={\"class\" : \"product-item__info-price\"})\n",
    "fiyatliste = [] \n",
    "for fiyat in fiyatlar: \n",
    "   fiyatlar = fiyat.text.strip()\n",
    "   fiyatliste.append(fiyatlar)"
   ]
  },
  {
   "cell_type": "code",
   "execution_count": 40,
   "metadata": {},
   "outputs": [
    {
     "data": {
      "text/html": [
       "<div>\n",
       "<style scoped>\n",
       "    .dataframe tbody tr th:only-of-type {\n",
       "        vertical-align: middle;\n",
       "    }\n",
       "\n",
       "    .dataframe tbody tr th {\n",
       "        vertical-align: top;\n",
       "    }\n",
       "\n",
       "    .dataframe thead th {\n",
       "        text-align: right;\n",
       "    }\n",
       "</style>\n",
       "<table border=\"1\" class=\"dataframe\">\n",
       "  <thead>\n",
       "    <tr style=\"text-align: right;\">\n",
       "      <th></th>\n",
       "      <th>Başlıklar</th>\n",
       "      <th>fiyatlar</th>\n",
       "    </tr>\n",
       "  </thead>\n",
       "  <tbody>\n",
       "    <tr>\n",
       "      <th>0</th>\n",
       "      <td>Kot Pantolon Dar Kesim Yüksek Bel Dar Paça - C...</td>\n",
       "      <td>279.99</td>\n",
       "    </tr>\n",
       "    <tr>\n",
       "      <th>1</th>\n",
       "      <td>Dar Paça Kot Pantolon Dar Kesim Yüksek Bel - C...</td>\n",
       "      <td>429.99</td>\n",
       "    </tr>\n",
       "    <tr>\n",
       "      <th>2</th>\n",
       "      <td>İspanyol Paça Pantolon Yırtmaçlı Nervürlü</td>\n",
       "      <td>362.99</td>\n",
       "    </tr>\n",
       "    <tr>\n",
       "      <th>3</th>\n",
       "      <td>Jogger Pantolon Zincir Detaylı</td>\n",
       "      <td>519.99</td>\n",
       "    </tr>\n",
       "    <tr>\n",
       "      <th>4</th>\n",
       "      <td>Palazzo Pantolon Geniş Paça Nervürlü Yüksek Bel</td>\n",
       "      <td>399.99</td>\n",
       "    </tr>\n",
       "    <tr>\n",
       "      <th>5</th>\n",
       "      <td>Uzun Oversize Sweatshirt Kapüşonlu</td>\n",
       "      <td>419.99</td>\n",
       "    </tr>\n",
       "    <tr>\n",
       "      <th>6</th>\n",
       "      <td>Jogger Eşofman Altı Cep Detaylı Ekstra Yüksek Bel</td>\n",
       "      <td>389.99</td>\n",
       "    </tr>\n",
       "    <tr>\n",
       "      <th>7</th>\n",
       "      <td>İspanyol Paça Pantolon Yüksek Bel Yırtmaç Detaylı</td>\n",
       "      <td>389.99</td>\n",
       "    </tr>\n",
       "    <tr>\n",
       "      <th>8</th>\n",
       "      <td>Crop Büstiyer Gömlek Yaka Korse Görünümlü Kolsuz</td>\n",
       "      <td>299.99</td>\n",
       "    </tr>\n",
       "    <tr>\n",
       "      <th>9</th>\n",
       "      <td>Kısa Kollu Tişört Bisiklet Yaka Koala İşlemeli</td>\n",
       "      <td>139.99</td>\n",
       "    </tr>\n",
       "    <tr>\n",
       "      <th>10</th>\n",
       "      <td>İspanyol Paça Kot Pantolon Dar Kesim Normal Be...</td>\n",
       "      <td>439.99</td>\n",
       "    </tr>\n",
       "    <tr>\n",
       "      <th>11</th>\n",
       "      <td>Havuç Pantolon Kemer Detaylı Yüksek Bel Cepli</td>\n",
       "      <td>499.99</td>\n",
       "    </tr>\n",
       "    <tr>\n",
       "      <th>12</th>\n",
       "      <td>Geniş Kısa Paça Kot Pantolon Yüksek Bel - Sand...</td>\n",
       "      <td>439.99</td>\n",
       "    </tr>\n",
       "    <tr>\n",
       "      <th>13</th>\n",
       "      <td>Uzun Kollu Tişört File Örgü Crop Bisiklet Yaka</td>\n",
       "      <td>299.99</td>\n",
       "    </tr>\n",
       "    <tr>\n",
       "      <th>14</th>\n",
       "      <td>Kot Ceket Uzun Kollu Cep Detaylı Gömlek Yaka</td>\n",
       "      <td>699.99</td>\n",
       "    </tr>\n",
       "    <tr>\n",
       "      <th>15</th>\n",
       "      <td>Kot Şort Kemer Detaylı Yüksek Bel Cepli</td>\n",
       "      <td>439.99</td>\n",
       "    </tr>\n",
       "    <tr>\n",
       "      <th>16</th>\n",
       "      <td>Kolej Sweatshirt Kapüşonlu Oversize Fermuarlı ...</td>\n",
       "      <td>615.99</td>\n",
       "    </tr>\n",
       "    <tr>\n",
       "      <th>17</th>\n",
       "      <td>Midi Etek Yırtmaç Detaylı Pamuklu Beli Gipeli</td>\n",
       "      <td>329.99</td>\n",
       "    </tr>\n",
       "    <tr>\n",
       "      <th>18</th>\n",
       "      <td>Jogger Eşofman Altı İşlemeli Cep Detaylı Paças...</td>\n",
       "      <td>399.99</td>\n",
       "    </tr>\n",
       "    <tr>\n",
       "      <th>19</th>\n",
       "      <td>Bisiklet Yaka Sweatshirt Oversize Slogan İşlem...</td>\n",
       "      <td>449.99</td>\n",
       "    </tr>\n",
       "    <tr>\n",
       "      <th>20</th>\n",
       "      <td>Uzun Kollu Tişört File Örgü Crop Bisiklet Yaka</td>\n",
       "      <td>329.99</td>\n",
       "    </tr>\n",
       "    <tr>\n",
       "      <th>21</th>\n",
       "      <td>İspanyol Paça Kot Pantolon Dar Kesim Normal Be...</td>\n",
       "      <td>439.99</td>\n",
       "    </tr>\n",
       "    <tr>\n",
       "      <th>22</th>\n",
       "      <td>Kumaş Pantolon İspanyol Paça Yüksek Bel Düğmeli</td>\n",
       "      <td>439.99</td>\n",
       "    </tr>\n",
       "    <tr>\n",
       "      <th>23</th>\n",
       "      <td>Sırtı Açık Yelek Gömlek Yaka Düğme Detaylı</td>\n",
       "      <td>389.99</td>\n",
       "    </tr>\n",
       "  </tbody>\n",
       "</table>\n",
       "</div>"
      ],
      "text/plain": [
       "                                            Başlıklar fiyatlar\n",
       "0   Kot Pantolon Dar Kesim Yüksek Bel Dar Paça - C...   279.99\n",
       "1   Dar Paça Kot Pantolon Dar Kesim Yüksek Bel - C...   429.99\n",
       "2           İspanyol Paça Pantolon Yırtmaçlı Nervürlü   362.99\n",
       "3                      Jogger Pantolon Zincir Detaylı   519.99\n",
       "4     Palazzo Pantolon Geniş Paça Nervürlü Yüksek Bel   399.99\n",
       "5                  Uzun Oversize Sweatshirt Kapüşonlu   419.99\n",
       "6   Jogger Eşofman Altı Cep Detaylı Ekstra Yüksek Bel   389.99\n",
       "7   İspanyol Paça Pantolon Yüksek Bel Yırtmaç Detaylı   389.99\n",
       "8    Crop Büstiyer Gömlek Yaka Korse Görünümlü Kolsuz   299.99\n",
       "9      Kısa Kollu Tişört Bisiklet Yaka Koala İşlemeli   139.99\n",
       "10  İspanyol Paça Kot Pantolon Dar Kesim Normal Be...   439.99\n",
       "11      Havuç Pantolon Kemer Detaylı Yüksek Bel Cepli   499.99\n",
       "12  Geniş Kısa Paça Kot Pantolon Yüksek Bel - Sand...   439.99\n",
       "13     Uzun Kollu Tişört File Örgü Crop Bisiklet Yaka   299.99\n",
       "14       Kot Ceket Uzun Kollu Cep Detaylı Gömlek Yaka   699.99\n",
       "15            Kot Şort Kemer Detaylı Yüksek Bel Cepli   439.99\n",
       "16  Kolej Sweatshirt Kapüşonlu Oversize Fermuarlı ...   615.99\n",
       "17      Midi Etek Yırtmaç Detaylı Pamuklu Beli Gipeli   329.99\n",
       "18  Jogger Eşofman Altı İşlemeli Cep Detaylı Paças...   399.99\n",
       "19  Bisiklet Yaka Sweatshirt Oversize Slogan İşlem...   449.99\n",
       "20     Uzun Kollu Tişört File Örgü Crop Bisiklet Yaka   329.99\n",
       "21  İspanyol Paça Kot Pantolon Dar Kesim Normal Be...   439.99\n",
       "22    Kumaş Pantolon İspanyol Paça Yüksek Bel Düğmeli   439.99\n",
       "23         Sırtı Açık Yelek Gömlek Yaka Düğme Detaylı   389.99"
      ]
     },
     "execution_count": 40,
     "metadata": {},
     "output_type": "execute_result"
    }
   ],
   "source": [
    "data = {\"Başlıklar\" : başlıkliste,\"fiyatlar\":fiyatliste}\n",
    "df = pd.DataFrame(data)\n",
    "df"
   ]
  }
 ],
 "metadata": {
  "kernelspec": {
   "display_name": "Python 3",
   "language": "python",
   "name": "python3"
  },
  "language_info": {
   "codemirror_mode": {
    "name": "ipython",
    "version": 3
   },
   "file_extension": ".py",
   "mimetype": "text/x-python",
   "name": "python",
   "nbconvert_exporter": "python",
   "pygments_lexer": "ipython3",
   "version": "3.11.2"
  },
  "orig_nbformat": 4
 },
 "nbformat": 4,
 "nbformat_minor": 2
}

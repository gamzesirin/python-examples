{
 "cells": [
  {
   "cell_type": "markdown",
   "metadata": {},
   "source": [
    "# Fonksiyolar\n",
    "\n",
    "- Fonksiyonlar iki aşamadan oluşur; tanımlama ve çağırma.\n",
    "- Fonksiyonu tanımlamak için <code> def </code> ifadesi kullanılır.\n",
    "- Tanımlanacak fonksiyonun adı belirtilir ve iki nokta üst üste koyulur.\n",
    "- Girintili olarak fonksiyonun yapacağı işlemin kodu yazılır.\n",
    "- Girintinin dışına çıkıldığıda fonksiyonun tanımı biter."
   ]
  },
  {
   "cell_type": "code",
   "execution_count": 2,
   "metadata": {},
   "outputs": [
    {
     "name": "stdout",
     "output_type": "stream",
     "text": [
      "Merhaba\n"
     ]
    }
   ],
   "source": [
    "# fonksiyonların anatomisi ve çağırılması\n",
    "\n",
    "def selamlama():\n",
    "    print(\"Merhaba\")\n",
    "\n",
    "selamlama()"
   ]
  },
  {
   "cell_type": "code",
   "execution_count": 3,
   "metadata": {},
   "outputs": [
    {
     "name": "stdout",
     "output_type": "stream",
     "text": [
      "Merhaba Bilge\n"
     ]
    }
   ],
   "source": [
    "# parametre ataması \n",
    "\n",
    "def selamlama(isim):\n",
    "    print(\"Merhaba \"+ isim)\n",
    "\n",
    "selamlama(\"Bilge\")"
   ]
  },
  {
   "cell_type": "code",
   "execution_count": 4,
   "metadata": {},
   "outputs": [
    {
     "name": "stdout",
     "output_type": "stream",
     "text": [
      "20\n"
     ]
    }
   ],
   "source": [
    "# istediğiniz kadar parametre ataması yapabilirsiniz. Fakat,\n",
    "# çağırma aşamasında girilen değerler parametre sayısı ile eşleşmeli. Ne eksik ne fazla olmalı.\n",
    "\n",
    "def toplama_islemi(x,y):\n",
    "    toplama= x+y\n",
    "    print(toplama)\n",
    "\n",
    "toplama_islemi(15,5)"
   ]
  },
  {
   "cell_type": "code",
   "execution_count": 5,
   "metadata": {},
   "outputs": [
    {
     "name": "stdout",
     "output_type": "stream",
     "text": [
      "Müşteri adı:  gamzesirin\n",
      "Müşteri numarası:  259483\n",
      "Şehir:  manisa\n",
      "Meslek:  mühendis\n"
     ]
    }
   ],
   "source": [
    "#fonksiyonların bize nasıl bir kolaylık sağladığını anlamak için\n",
    "musteri_adi = \"gamzesirin\"\n",
    "musteri_no = \"259483\"\n",
    "sehir=\"manisa\"\n",
    "meslek=\"mühendis\"\n",
    "\n",
    "print(\"Müşteri adı: \", musteri_adi)\n",
    "print(\"Müşteri numarası: \",musteri_no)\n",
    "print(\"Şehir: \", sehir)\n",
    "print(\"Meslek: \", meslek)"
   ]
  },
  {
   "cell_type": "code",
   "execution_count": 6,
   "metadata": {},
   "outputs": [
    {
     "name": "stdout",
     "output_type": "stream",
     "text": [
      "Müşteri adı:  gamzesirin\n",
      "Müşteri numarası:  259483\n",
      "Şehir:  manisaa\n",
      "Meslek:  mühendis\n",
      "-------------------------\n",
      "Müşteri adı:  elifayse\n",
      "Müşteri numarası:  763486\n",
      "Şehir:  antalya\n",
      "Meslek:  doktor\n"
     ]
    }
   ],
   "source": [
    "musteri_adi = \"gamzesirin\"\n",
    "musteri_no = \"259483\"\n",
    "sehir=\"manisaa\"\n",
    "meslek=\"mühendis\"\n",
    "\n",
    "print(\"Müşteri adı: \", musteri_adi)\n",
    "print(\"Müşteri numarası: \", musteri_no)\n",
    "print(\"Şehir: \", sehir)\n",
    "print(\"Meslek: \", meslek)\n",
    "\n",
    "print(\"-------------------------\")\n",
    "\n",
    "\n",
    "musteri_adi = \"elifayse\"\n",
    "musteri_no = \"763486\"\n",
    "sehir=\"antalya\"\n",
    "meslek=\"doktor\"\n",
    "\n",
    "print(\"Müşteri adı: \", musteri_adi)\n",
    "print(\"Müşteri numarası: \", musteri_no)\n",
    "print(\"Şehir: \", sehir)\n",
    "print(\"Meslek: \", meslek)"
   ]
  },
  {
   "cell_type": "code",
   "execution_count": 7,
   "metadata": {},
   "outputs": [
    {
     "name": "stdout",
     "output_type": "stream",
     "text": [
      "Müşteri adı:  mustafa\n",
      "Müşteri numarası:  254639\n",
      "Şehir:  Isparta\n",
      "Meslek:  Eğitmen\n",
      "-------------------------\n",
      "Müşteri adı:  lale\n",
      "Müşteri numarası:  763486\n",
      "Şehir:  Antalya\n",
      "Meslek:  Hemşire\n",
      "-------------------------\n"
     ]
    }
   ],
   "source": [
    "def musteri_bilgileri(isim,numara,sehir,meslek):\n",
    "    print(\"Müşteri adı: \", isim)\n",
    "    print(\"Müşteri numarası: \", numara)\n",
    "    print(\"Şehir: \", sehir)\n",
    "    print(\"Meslek: \", meslek)\n",
    "    print(\"-------------------------\")\n",
    "\n",
    "musteri_bilgileri(\"mustafa\",\"254639\",\"Isparta\",\"Eğitmen\")\n",
    "musteri_bilgileri(\"lale\",\"763486\",\"Antalya\",\"Hemşire\")"
   ]
  },
  {
   "cell_type": "code",
   "execution_count": null,
   "metadata": {},
   "outputs": [],
   "source": []
  }
 ],
 "metadata": {
  "kernelspec": {
   "display_name": "Python 3",
   "language": "python",
   "name": "python3"
  },
  "language_info": {
   "codemirror_mode": {
    "name": "ipython",
    "version": 3
   },
   "file_extension": ".py",
   "mimetype": "text/x-python",
   "name": "python",
   "nbconvert_exporter": "python",
   "pygments_lexer": "ipython3",
   "version": "3.11.2"
  },
  "orig_nbformat": 4
 },
 "nbformat": 4,
 "nbformat_minor": 2
}

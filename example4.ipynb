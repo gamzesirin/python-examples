{
 "cells": [
  {
   "cell_type": "markdown",
   "id": "054fd707",
   "metadata": {},
   "source": [
    "# Koşullar\n",
    "Üç tane koşul deyimi kullanılır:\n",
    "- if\n",
    "- elif\n",
    "- else"
   ]
  },
  {
   "cell_type": "code",
   "execution_count": 1,
   "id": "ec1ac9cd",
   "metadata": {},
   "outputs": [
    {
     "name": "stdout",
     "output_type": "stream",
     "text": [
      "1 ve 15 arasında bir sayı giriniz: 4\n",
      "Seçtiğiniz sayı: 4\n"
     ]
    }
   ],
   "source": [
    "sayi = int(input(\"1 ve 15 arasında bir sayı giriniz: \"))\n",
    "print(\"Seçtiğiniz sayı:\",sayi)"
   ]
  },
  {
   "cell_type": "markdown",
   "id": "0a7fe4aa",
   "metadata": {},
   "source": [
    "Koşulların hepsinin <code> if </code> ile yapılmasıyla <code> elif </code> koşulunun kullanılması arasındaki fark şudur;\n",
    " - Bütün <code> if </code> koşulları tek tek kontrol edilir ve doğru olan tüm sonuçlar sağlanır.\n",
    " - <code> elif </code> koşulunda ise doğru olan ilk koşulun sonucu verilir."
   ]
  },
  {
   "cell_type": "code",
   "execution_count": 17,
   "id": "6c1e579d",
   "metadata": {},
   "outputs": [
    {
     "name": "stdout",
     "output_type": "stream",
     "text": [
      "49 girdiniz\n",
      "75'ten küçük bir sayı girdiniz.\n",
      "50'den küçük bir sayı girdiniz.\n"
     ]
    }
   ],
   "source": [
    "sayi = int(input(\"1 ve 100 arasında bir sayı giriniz: \"))\n",
    "print(sayi, \"girdiniz\")\n",
    "if sayi < 75:\n",
    "    print(\"75'ten küçük bir sayı girdiniz.\")\n",
    "if sayi < 50:\n",
    "    print(\"50'den küçük bir sayı girdiniz.\")\n",
    "if sayi < 25:\n",
    "    print(\"25'den küçük bir sayı girdiniz.\")"
   ]
  },
  {
   "cell_type": "code",
   "execution_count": 18,
   "id": "511f9567",
   "metadata": {},
   "outputs": [
    {
     "name": "stdout",
     "output_type": "stream",
     "text": [
      "49 girdiniz\n",
      "75'ten küçük bir sayı girdiniz.\n"
     ]
    }
   ],
   "source": [
    "sayi = int(input(\"1 ve 100 arasında bir sayı giriniz: \"))\n",
    "print(sayi, \"girdiniz\")\n",
    "if sayi < 75:\n",
    "    print(\"75'ten küçük bir sayı girdiniz.\")\n",
    "elif sayi < 50:\n",
    "    print(\"50'den küçük bir sayı girdiniz.\")\n",
    "elif sayi < 25:\n",
    "    print(\"25'den küçük bir sayı girdiniz.\")"
   ]
  },
  {
   "cell_type": "code",
   "execution_count": 12,
   "id": "3fe17b4a",
   "metadata": {},
   "outputs": [
    {
     "name": "stdout",
     "output_type": "stream",
     "text": [
      "90 girdiniz\n"
     ]
    }
   ],
   "source": [
    "sayi = int(input(\"1 ve 100 arasında bir sayı giriniz: \"))\n",
    "print(sayi, \"girdiniz\")\n",
    "if sayi < 25:\n",
    "    print(\"25'ten küçük bir sayı girdiniz.\")\n",
    "elif sayi < 50:\n",
    "    print(\"25 ie 50 arasında bir sayı girdiniz.\")\n",
    "elif sayi < 75:\n",
    "    print(\"50 ile 75 arasında sayı girdiniz.\")"
   ]
  },
  {
   "cell_type": "code",
   "execution_count": 11,
   "id": "df7968a3",
   "metadata": {},
   "outputs": [
    {
     "name": "stdout",
     "output_type": "stream",
     "text": [
      "90 girdiniz\n",
      "75 ile 100 arasında bir değer girdiniz.\n"
     ]
    }
   ],
   "source": [
    "sayi = int(input(\"1 ve 100 arasında bir sayı giriniz: \"))\n",
    "print(sayi, \"girdiniz\")\n",
    "if sayi < 25:\n",
    "    print(\"25'ten küçük bir sayı girdiniz.\")\n",
    "elif sayi < 50:\n",
    "    print(\"25 ie 50 arasında bir sayı girdiniz.\")\n",
    "elif sayi < 75:\n",
    "    print(\"50 ile 75 arasında sayı girdiniz.\")\n",
    "else:\n",
    "    print(\"75 ile 100 arasında bir değer girdiniz.\")"
   ]
  },
  {
   "cell_type": "markdown",
   "id": "cf71a1c9",
   "metadata": {},
   "source": [
    "Bir oyunda toplanan skorların toplam sonucunu çok iyi, iyi, kötü olarak üç kategoriye ayıralım. \n",
    "\n",
    "Skor toplamı en az 0, en fazla 100 olabilir.\n",
    "\n",
    "0-40 : Kötü\n",
    "40-70 : İyi\n",
    "70-100 : Çok iyi"
   ]
  },
  {
   "cell_type": "code",
   "execution_count": 10,
   "id": "cdaf6537",
   "metadata": {},
   "outputs": [
    {
     "name": "stdout",
     "output_type": "stream",
     "text": [
      "89 girdiniz\n",
      "Çok iyi skor!! Tebrikler!!\n"
     ]
    }
   ],
   "source": [
    "#Beraber yapalım!!\n",
    "skor = int(input(\"Toplam skorunuzu giriniz: \"))\n",
    "print(skor, \"girdiniz\")\n",
    "if skor>0 and skor<=40:\n",
    "    print(\"Kötü skor!! Daha fazla puan toplamalısın.\")\n",
    "elif skor>40 and skor <=70:\n",
    "    print(\"İyi skor!\")\n",
    "elif skor>70 and skor <=100:\n",
    "    print(\"Çok iyi skor!! Tebrikler!!\")\n",
    "else:\n",
    "    print(\"Geçersiz değer.\")"
   ]
  },
  {
   "cell_type": "markdown",
   "id": "e372de90",
   "metadata": {},
   "source": [
    "# Döngüler\n",
    "- while\n",
    "- for"
   ]
  },
  {
   "cell_type": "code",
   "execution_count": 19,
   "id": "e9e87558",
   "metadata": {},
   "outputs": [
    {
     "name": "stdout",
     "output_type": "stream",
     "text": [
      "Selam!\n",
      "Selam!\n",
      "Selam!\n",
      "Selam!\n",
      "Selam!\n"
     ]
    }
   ],
   "source": [
    "a = 1\n",
    "while a<=5:\n",
    "    print(\"Selam!\")\n",
    "    a = a+1"
   ]
  },
  {
   "cell_type": "code",
   "execution_count": 6,
   "id": "7de9065e",
   "metadata": {},
   "outputs": [
    {
     "name": "stdout",
     "output_type": "stream",
     "text": [
      "Merhaba\n",
      "Merhaba\n",
      "Merhaba\n",
      "Merhaba\n",
      "Merhaba\n",
      "Merhaba\n",
      "Merhaba\n",
      "Merhaba\n",
      "Merhaba\n",
      "Merhaba\n"
     ]
    }
   ],
   "source": [
    "a = 1\n",
    "\n",
    "while a <= 10:\n",
    "    print(\"Merhaba\")\n",
    "    a = a+1"
   ]
  },
  {
   "cell_type": "code",
   "execution_count": 7,
   "id": "2e92e99d",
   "metadata": {},
   "outputs": [
    {
     "name": "stdout",
     "output_type": "stream",
     "text": [
      "1\n",
      "2\n",
      "3\n",
      "4\n",
      "5\n",
      "6\n",
      "7\n",
      "8\n",
      "9\n",
      "10\n"
     ]
    }
   ],
   "source": [
    "a = 1\n",
    "\n",
    "while a <= 10:\n",
    "    print(a)\n",
    "    a += 1"
   ]
  },
  {
   "cell_type": "code",
   "execution_count": 8,
   "id": "ee4de028",
   "metadata": {},
   "outputs": [
    {
     "name": "stdout",
     "output_type": "stream",
     "text": [
      "0\n",
      "2\n",
      "4\n",
      "6\n",
      "8\n",
      "10\n"
     ]
    }
   ],
   "source": [
    "a=0\n",
    "\n",
    "while a <=10:\n",
    "    if a % 2 == 0:\n",
    "        print(a)\n",
    "    a = a+ 1"
   ]
  },
  {
   "cell_type": "markdown",
   "id": "89d2ce59",
   "metadata": {},
   "source": [
    "Kullanıcan yapmak istediği işlem ve bu işlem için iki sayı alalım ve sonuçları bastıralım. Biz sonladırmak istemediğimiz sürece işlem ve sayı sormaya devam etsin.\n",
    "\n",
    "Toplama:1\n",
    "\n",
    "Çıkarma:2\n",
    "\n",
    "Çarpma:3\n",
    "\n",
    "Bölme:4"
   ]
  },
  {
   "cell_type": "code",
   "execution_count": 23,
   "id": "c4889e67",
   "metadata": {},
   "outputs": [
    {
     "name": "stdout",
     "output_type": "stream",
     "text": [
      "ilk sayınız 3\n",
      "ikinci sayınız 4\n",
      "Girdiğiniz sayılara göre yaptığınız işlemin sonucu:  7\n",
      "ilk sayınız 3\n",
      "ikinci sayınız 4\n",
      "Girdiğiniz sayılara göre yaptığınız işlemin sonucu:  -1\n",
      "ilk sayınız 3\n",
      "ikinci sayınız 4\n",
      "Girdiğiniz sayılara göre yaptığınız işlemin sonucu:  12\n",
      "ilk sayınız 3\n",
      "ikinci sayınız 4\n",
      "Girdiğiniz sayılara göre yaptığınız işlemin sonucu:  0.75\n",
      "ilk sayınız 3\n",
      "ikinci sayınız 4\n",
      "Hatalı giriş!!\n",
      "ilk sayınız 3\n",
      "ikinci sayınız 4\n",
      "Çıkış yapılıyor..\n"
     ]
    }
   ],
   "source": [
    "key = 1\n",
    "\n",
    "while key ==1:\n",
    "    islem = int(input(\"Yapmak istediğiniz işlemin numarasını giriniz toplama için 1 e çıkarma için 2 ye çarpma için 3 e bölme için 4 e(Çıkmak için 0'a basın): \" ))\n",
    "    sayi1 = int(input(\"Yapmak istediğiniz işlem için ilk sayıyı giriniz: \"))\n",
    "    print(\"ilk sayınız\",sayi1)\n",
    "    sayi2 = int(input(\"Yapmak istediğiniz işlem için ikinci sayıyı giriniz: \"))\n",
    "    print(\"ikinci sayınız\",sayi2)\n",
    "    if islem == 1:\n",
    "        islem  = sayi1+sayi2\n",
    "        print(\"Girdiğiniz sayılara göre yaptığınız işlemin sonucu: \",islem)\n",
    "    elif islem == 2:\n",
    "        islem  = sayi1-sayi2\n",
    "        print(\"Girdiğiniz sayılara göre yaptığınız işlemin sonucu: \",islem)       \n",
    "    elif islem == 3:\n",
    "        islem  = sayi1*sayi2\n",
    "        print(\"Girdiğiniz sayılara göre yaptığınız işlemin sonucu: \",islem)\n",
    "    elif islem == 4:\n",
    "        islem  = sayi1/sayi2\n",
    "        print(\"Girdiğiniz sayılara göre yaptığınız işlemin sonucu: \",islem)\n",
    "    elif islem == 0:\n",
    "        print(\"Çıkış yapılıyor..\")\n",
    "        key = 0\n",
    "    else: \n",
    "        print(\"Hatalı giriş!!\")"
   ]
  },
  {
   "cell_type": "code",
   "execution_count": 26,
   "id": "1d4a870c",
   "metadata": {},
   "outputs": [
    {
     "name": "stdout",
     "output_type": "stream",
     "text": [
      "ilk sayınız 2\n",
      "ikinci sayınız 3\n",
      "Girdiğiniz sayılara göre yaptığınız işlemin sonucu:  5\n",
      "ilk sayınız 2\n",
      "ikinci sayınız 3\n",
      "Girdiğiniz sayılara göre yaptığınız işlemin sonucu:  -1\n",
      "ilk sayınız 2\n",
      "ikinci sayınız 3\n",
      "Girdiğiniz sayılara göre yaptığınız işlemin sonucu:  6\n",
      "ilk sayınız 2\n",
      "ikinci sayınız 3\n",
      "Girdiğiniz sayılara göre yaptığınız işlemin sonucu:  0.6666666666666666\n",
      "ilk sayınız 2\n",
      "ikinci sayınız 3\n",
      "Hatalı giriş!!\n",
      "ilk sayınız 2\n",
      "ikinci sayınız 3\n",
      "Çıkış yapılıyor..\n"
     ]
    }
   ],
   "source": [
    "while True:\n",
    "    islem = int(input(\"Yapmak istediğiniz işlemin numarasını giriniz(Çıkmak için 0'a basın): \" ))\n",
    "    sayi1 = int(input(\"Yapmak istediğiniz işlem için ilk sayıyı giriniz: \"))\n",
    "    print(\"ilk sayınız\",sayi1)\n",
    "    sayi2 = int(input(\"Yapmak istediğiniz işlem için ikinci sayıyı giriniz: \"))\n",
    "    print(\"ikinci sayınız\",sayi2)\n",
    "    if islem == 1:\n",
    "        islem  = sayi1+sayi2\n",
    "        print(\"Girdiğiniz sayılara göre yaptığınız işlemin sonucu: \",islem)\n",
    "    elif islem == 2:\n",
    "        islem  = sayi1-sayi2\n",
    "        print(\"Girdiğiniz sayılara göre yaptığınız işlemin sonucu: \",islem)       \n",
    "    elif islem == 3:\n",
    "        islem  = sayi1*sayi2\n",
    "        print(\"Girdiğiniz sayılara göre yaptığınız işlemin sonucu: \",islem)\n",
    "    elif islem == 4:\n",
    "        islem  = sayi1/sayi2\n",
    "        print(\"Girdiğiniz sayılara göre yaptığınız işlemin sonucu: \",islem)\n",
    "    elif islem == 0:\n",
    "        print(\"Çıkış yapılıyor..\")\n",
    "        break\n",
    "    else: \n",
    "        print(\"Hatalı giriş!!\")"
   ]
  },
  {
   "cell_type": "code",
   "execution_count": null,
   "id": "c2eca124",
   "metadata": {},
   "outputs": [],
   "source": [
    "while True:\n",
    "    islem = int(input(\"Yapmak istediğiniz işlemin numarasını giriniz(Çıkmak için 0'a basın): \" ))\n",
    "\n",
    "    if islem == 1:\n",
    "        sayi1 = int(input(\"Yapmak istediğiniz işlem için ilk sayıyı giriniz: \"))\n",
    "        sayi2 = int(input(\"Yapmak istediğiniz işlem için ikinci sayıyı giriniz: \"))\n",
    "        islem  = sayi1+sayi2\n",
    "        print(\"Girdiğiniz sayılara göre yaptığınız işlemin sonucu: \",islem)\n",
    "\n",
    "    elif islem == 2:\n",
    "        sayi1 = int(input(\"Yapmak istediğiniz işlem için ilk sayıyı giriniz: \"))\n",
    "        sayi2 = int(input(\"Yapmak istediğiniz işlem için ikinci sayıyı giriniz: \"))\n",
    "        islem  = sayi1-sayi2\n",
    "        print(\"Girdiğiniz sayılara göre yaptığınız işlemin sonucu: \",islem)       \n",
    "\n",
    "    elif islem == 3:\n",
    "        sayi1 = int(input(\"Yapmak istediğiniz işlem için ilk sayıyı giriniz: \"))\n",
    "        sayi2 = int(input(\"Yapmak istediğiniz işlem için ikinci sayıyı giriniz: \"))\n",
    "        islem  = sayi1*sayi2\n",
    "        print(\"Girdiğiniz sayılara göre yaptığınız işlemin sonucu: \",islem)\n",
    "    \n",
    "    elif islem == 4:\n",
    "        sayi1 = int(input(\"Yapmak istediğiniz işlem için ilk sayıyı giriniz: \"))\n",
    "        sayi2 = int(input(\"Yapmak istediğiniz işlem için ikinci sayıyı giriniz: \"))\n",
    "        islem  = sayi1/sayi2\n",
    "        print(\"Girdiğiniz sayılara göre yaptığınız işlemin sonucu: \",islem)\n",
    "    elif islem == 0:\n",
    "        print(\"Çıkış yapılıyor..\")\n",
    "        break\n",
    "    else: \n",
    "        pass"
   ]
  },
  {
   "cell_type": "code",
   "execution_count": 31,
   "id": "c75fb10f",
   "metadata": {},
   "outputs": [
    {
     "name": "stdout",
     "output_type": "stream",
     "text": [
      "Merhaba\n",
      "Merhaba\n",
      "Merhaba\n"
     ]
    }
   ],
   "source": [
    "while True:\n",
    "    sayi = int(input(\"1 ve 5 arasında sayı giriniz: \"))\n",
    "\n",
    "    if sayi == 0:\n",
    "        break\n",
    "    elif 1 > sayi and sayi < 5:\n",
    "        pass\n",
    "\n",
    "    print(\"Merhaba\")"
   ]
  },
  {
   "cell_type": "code",
   "execution_count": 32,
   "id": "26b13274",
   "metadata": {},
   "outputs": [
    {
     "name": "stdout",
     "output_type": "stream",
     "text": [
      "M\n",
      "e\n",
      "r\n",
      "h\n",
      "a\n",
      "b\n",
      "a\n"
     ]
    }
   ],
   "source": [
    "sozcuk = \"Merhaba\"\n",
    "for harf in sozcuk:\n",
    "    print(harf)"
   ]
  },
  {
   "cell_type": "code",
   "execution_count": 33,
   "id": "814e34ba",
   "metadata": {},
   "outputs": [
    {
     "name": "stdout",
     "output_type": "stream",
     "text": [
      "M\n",
      "e\n",
      "r\n",
      "h\n",
      "a\n",
      "b\n",
      "a\n"
     ]
    }
   ],
   "source": [
    "sozcuk = \"Merhaba\"\n",
    "a = 0\n",
    "while a < len(sozcuk):\n",
    "    print(sozcuk[a])\n",
    "    a += 1"
   ]
  },
  {
   "cell_type": "code",
   "execution_count": 35,
   "id": "1583005f",
   "metadata": {},
   "outputs": [
    {
     "name": "stdout",
     "output_type": "stream",
     "text": [
      "1\n",
      "2\n",
      "3\n",
      "4\n",
      "5\n",
      "6\n",
      "7\n",
      "8\n",
      "9\n"
     ]
    }
   ],
   "source": [
    "sayilar=\"123456789\"\n",
    "for sayi in sayilar:\n",
    "    print(sayi)"
   ]
  },
  {
   "cell_type": "code",
   "execution_count": 36,
   "id": "23bd91dd",
   "metadata": {},
   "outputs": [
    {
     "name": "stdout",
     "output_type": "stream",
     "text": [
      "0\n",
      "1\n",
      "2\n",
      "3\n",
      "4\n",
      "5\n",
      "6\n",
      "7\n",
      "8\n",
      "9\n"
     ]
    }
   ],
   "source": [
    "for sayi in range(10): #range(ilk sayı, son sayı)\n",
    "    print(sayi)"
   ]
  },
  {
   "cell_type": "code",
   "execution_count": 37,
   "id": "1af5ae56",
   "metadata": {},
   "outputs": [
    {
     "name": "stdout",
     "output_type": "stream",
     "text": [
      "5\n",
      "6\n",
      "7\n",
      "8\n",
      "9\n",
      "10\n",
      "11\n"
     ]
    }
   ],
   "source": [
    "for i in range(5,12):\n",
    "    print(i)"
   ]
  },
  {
   "cell_type": "code",
   "execution_count": 38,
   "id": "189291d9",
   "metadata": {},
   "outputs": [
    {
     "name": "stdout",
     "output_type": "stream",
     "text": [
      "0\n",
      "2\n",
      "4\n",
      "6\n",
      "8\n"
     ]
    }
   ],
   "source": [
    "for i in range(0,10,2): #range(ilk sayı, son sayı,atlama değeri)\n",
    "    print(i)"
   ]
  },
  {
   "cell_type": "code",
   "execution_count": 39,
   "id": "87d6dcda",
   "metadata": {},
   "outputs": [
    {
     "name": "stdout",
     "output_type": "stream",
     "text": [
      "10\n",
      "7\n",
      "4\n",
      "1\n"
     ]
    }
   ],
   "source": [
    "for i in range(10,0,-3):\n",
    "    print(i)"
   ]
  },
  {
   "cell_type": "code",
   "execution_count": 40,
   "id": "f58c3102",
   "metadata": {},
   "outputs": [
    {
     "name": "stdout",
     "output_type": "stream",
     "text": [
      "0\n",
      "2\n",
      "4\n",
      "6\n",
      "8\n"
     ]
    }
   ],
   "source": [
    "for i in range(10):\n",
    "    if i % 2 != 0:\n",
    "        pass\n",
    "    else:\n",
    "        print(i)"
   ]
  },
  {
   "cell_type": "code",
   "execution_count": 42,
   "id": "e25a506a",
   "metadata": {},
   "outputs": [
    {
     "name": "stdout",
     "output_type": "stream",
     "text": [
      "Yanlış parola!!!\n",
      "Yanlış parola!!!\n",
      "Girişiniz yapıldı.\n"
     ]
    }
   ],
   "source": [
    "#Kullanıcıya parola için üç giriş hakkı verelim.\n",
    "sifre = \"hellopython\"\n",
    "\n",
    "for i in range(3):\n",
    "    parola = input(\"Lütfen bir parolanızı giriniz: \")\n",
    "    if sifre == parola:\n",
    "        print(\"Girişiniz yapıldı.\")\n",
    "        break\n",
    "    else:\n",
    "        print(\"Yanlış parola!!!\")"
   ]
  },
  {
   "cell_type": "code",
   "execution_count": null,
   "id": "2349c41e",
   "metadata": {},
   "outputs": [],
   "source": []
  }
 ],
 "metadata": {
  "kernelspec": {
   "display_name": "Python 3 (ipykernel)",
   "language": "python",
   "name": "python3"
  },
  "language_info": {
   "codemirror_mode": {
    "name": "ipython",
    "version": 3
   },
   "file_extension": ".py",
   "mimetype": "text/x-python",
   "name": "python",
   "nbconvert_exporter": "python",
   "pygments_lexer": "ipython3",
   "version": "3.11.2"
  }
 },
 "nbformat": 4,
 "nbformat_minor": 5
}

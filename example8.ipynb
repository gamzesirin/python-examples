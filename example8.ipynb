{
 "cells": [
  {
   "cell_type": "markdown",
   "metadata": {},
   "source": [
    "# Rastgele sayıda isimsiz parametre belirleme\n",
    "\n",
    "Yıldızlı parametreler, oluşturulan fonksiyonda bir parametre kısıtlaması yapmak istenilmediği zaman kullanılır.\n",
    "\n",
    "Yıldızlı parametre kullanıldığında yaygın olarak parametre ismine 'argümanlar' anlamına gelen 'args' verilir. \n",
    "\n",
    "def fonksiyon_adi(*args)\n"
   ]
  },
  {
   "cell_type": "code",
   "execution_count": 1,
   "metadata": {},
   "outputs": [
    {
     "data": {
      "text/plain": [
       "(3, 5, 6, 10, 71, 80)"
      ]
     },
     "execution_count": 1,
     "metadata": {},
     "output_type": "execute_result"
    }
   ],
   "source": [
    "def sayilar(*sayi):\n",
    "    return sayi\n",
    "\n",
    "sayilar(3,5,6,10,71,80)"
   ]
  },
  {
   "cell_type": "code",
   "execution_count": 3,
   "metadata": {},
   "outputs": [],
   "source": [
    "def karesi(*sayilar):\n",
    "    for i in sayilar:\n",
    "        sonuc = i **2\n",
    "        print(\"Girilen {} sayının karesi: {}\".format(i,sonuc))"
   ]
  },
  {
   "cell_type": "code",
   "execution_count": 4,
   "metadata": {},
   "outputs": [
    {
     "name": "stdout",
     "output_type": "stream",
     "text": [
      "Girilen 4 sayının karesi: 16\n",
      "Girilen 9 sayının karesi: 81\n",
      "Girilen 5 sayının karesi: 25\n"
     ]
    }
   ],
   "source": [
    "karesi(4,9,5)"
   ]
  },
  {
   "cell_type": "code",
   "execution_count": 5,
   "metadata": {},
   "outputs": [
    {
     "name": "stdout",
     "output_type": "stream",
     "text": [
      "36\n"
     ]
    }
   ],
   "source": [
    "def carpim(*args):\n",
    "    sonuc = 1\n",
    "    for i in args:\n",
    "        sonuc=sonuc *i\n",
    "    return sonuc\n",
    "print(carpim(2,3,6))"
   ]
  },
  {
   "cell_type": "markdown",
   "metadata": {},
   "source": [
    "### format"
   ]
  },
  {
   "cell_type": "code",
   "execution_count": 6,
   "metadata": {},
   "outputs": [
    {
     "name": "stdout",
     "output_type": "stream",
     "text": [
      "manisa\n"
     ]
    }
   ],
   "source": [
    "şehir=input(\"şehir giriniz:\")\n",
    "print(şehir)"
   ]
  },
  {
   "cell_type": "code",
   "execution_count": 7,
   "metadata": {},
   "outputs": [
    {
     "name": "stdout",
     "output_type": "stream",
     "text": [
      "manisa bir şehirdir.\n"
     ]
    }
   ],
   "source": [
    "print(\"{} bir şehirdir.\".format(şehir))"
   ]
  },
  {
   "cell_type": "code",
   "execution_count": 8,
   "metadata": {},
   "outputs": [
    {
     "data": {
      "text/plain": [
       "'gamze'"
      ]
     },
     "execution_count": 8,
     "metadata": {},
     "output_type": "execute_result"
    }
   ],
   "source": [
    "def isim_bilgisi():\n",
    "    isim = input(\"Merhaba, ismin ne? \")\n",
    "    return isim\n",
    "isim_bilgisi()"
   ]
  },
  {
   "cell_type": "code",
   "execution_count": 9,
   "metadata": {},
   "outputs": [
    {
     "name": "stdout",
     "output_type": "stream",
     "text": [
      "Merhaba gamze kaç yaşındasın?\n"
     ]
    }
   ],
   "source": [
    "print(\"Merhaba {} kaç yaşındasın?\".format(isim_bilgisi()))"
   ]
  },
  {
   "cell_type": "code",
   "execution_count": null,
   "metadata": {},
   "outputs": [],
   "source": []
  }
 ],
 "metadata": {
  "kernelspec": {
   "display_name": "Python 3",
   "language": "python",
   "name": "python3"
  },
  "language_info": {
   "codemirror_mode": {
    "name": "ipython",
    "version": 3
   },
   "file_extension": ".py",
   "mimetype": "text/x-python",
   "name": "python",
   "nbconvert_exporter": "python",
   "pygments_lexer": "ipython3",
   "version": "3.11.2"
  },
  "orig_nbformat": 4
 },
 "nbformat": 4,
 "nbformat_minor": 2
}

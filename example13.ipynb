{
 "cells": [
  {
   "cell_type": "code",
   "execution_count": 4,
   "id": "e3632fbc",
   "metadata": {},
   "outputs": [],
   "source": [
    "sozluk = {\"Kategori\": [\"Giyim\",\"Giyim\", \"Ayakkabı\",\"Aksesuar\",\"Ayakkabı\",\"Giyim\",\"Aksesuar\",\"Aksesuar\",\"Ayakkabı\",\"Giyim\"],\n",
    "         \"Ürün\" : [\"Kazak\",\"T-shirt\",\"Sandalet\",\"Küpe\",\"Spor Ayakkabı\",\"Pantolon\",\"Kolye\",\"Yüzük\",\"Çizme\",\"Ceket\"],\n",
    "         \"Fiyat\" : [300,180,450,50,700,400,150,80,850,900]}"
   ]
  },
  {
   "cell_type": "markdown",
   "id": "e380a30f",
   "metadata": {},
   "source": [
    "Yukarıdaki sözlüğü bir DataFrame haline getirin."
   ]
  },
  {
   "cell_type": "code",
   "execution_count": 5,
   "id": "fa7a1757",
   "metadata": {},
   "outputs": [],
   "source": [
    "import pandas as pd"
   ]
  },
  {
   "cell_type": "code",
   "execution_count": 7,
   "id": "0515faf1",
   "metadata": {},
   "outputs": [
    {
     "data": {
      "text/html": [
       "<div>\n",
       "<style scoped>\n",
       "    .dataframe tbody tr th:only-of-type {\n",
       "        vertical-align: middle;\n",
       "    }\n",
       "\n",
       "    .dataframe tbody tr th {\n",
       "        vertical-align: top;\n",
       "    }\n",
       "\n",
       "    .dataframe thead th {\n",
       "        text-align: right;\n",
       "    }\n",
       "</style>\n",
       "<table border=\"1\" class=\"dataframe\">\n",
       "  <thead>\n",
       "    <tr style=\"text-align: right;\">\n",
       "      <th></th>\n",
       "      <th>Kategori</th>\n",
       "      <th>Ürün</th>\n",
       "      <th>Fiyat</th>\n",
       "    </tr>\n",
       "  </thead>\n",
       "  <tbody>\n",
       "    <tr>\n",
       "      <th>0</th>\n",
       "      <td>Giyim</td>\n",
       "      <td>Kazak</td>\n",
       "      <td>300</td>\n",
       "    </tr>\n",
       "    <tr>\n",
       "      <th>1</th>\n",
       "      <td>Giyim</td>\n",
       "      <td>T-shirt</td>\n",
       "      <td>180</td>\n",
       "    </tr>\n",
       "    <tr>\n",
       "      <th>2</th>\n",
       "      <td>Ayakkabı</td>\n",
       "      <td>Sandalet</td>\n",
       "      <td>450</td>\n",
       "    </tr>\n",
       "    <tr>\n",
       "      <th>3</th>\n",
       "      <td>Aksesuar</td>\n",
       "      <td>Küpe</td>\n",
       "      <td>50</td>\n",
       "    </tr>\n",
       "    <tr>\n",
       "      <th>4</th>\n",
       "      <td>Ayakkabı</td>\n",
       "      <td>Spor Ayakkabı</td>\n",
       "      <td>700</td>\n",
       "    </tr>\n",
       "    <tr>\n",
       "      <th>5</th>\n",
       "      <td>Giyim</td>\n",
       "      <td>Pantolon</td>\n",
       "      <td>400</td>\n",
       "    </tr>\n",
       "    <tr>\n",
       "      <th>6</th>\n",
       "      <td>Aksesuar</td>\n",
       "      <td>Kolye</td>\n",
       "      <td>150</td>\n",
       "    </tr>\n",
       "    <tr>\n",
       "      <th>7</th>\n",
       "      <td>Aksesuar</td>\n",
       "      <td>Yüzük</td>\n",
       "      <td>80</td>\n",
       "    </tr>\n",
       "    <tr>\n",
       "      <th>8</th>\n",
       "      <td>Ayakkabı</td>\n",
       "      <td>Çizme</td>\n",
       "      <td>850</td>\n",
       "    </tr>\n",
       "    <tr>\n",
       "      <th>9</th>\n",
       "      <td>Giyim</td>\n",
       "      <td>Ceket</td>\n",
       "      <td>900</td>\n",
       "    </tr>\n",
       "  </tbody>\n",
       "</table>\n",
       "</div>"
      ],
      "text/plain": [
       "   Kategori           Ürün  Fiyat\n",
       "0     Giyim          Kazak    300\n",
       "1     Giyim        T-shirt    180\n",
       "2  Ayakkabı       Sandalet    450\n",
       "3  Aksesuar           Küpe     50\n",
       "4  Ayakkabı  Spor Ayakkabı    700\n",
       "5     Giyim       Pantolon    400\n",
       "6  Aksesuar          Kolye    150\n",
       "7  Aksesuar          Yüzük     80\n",
       "8  Ayakkabı          Çizme    850\n",
       "9     Giyim          Ceket    900"
      ]
     },
     "execution_count": 7,
     "metadata": {},
     "output_type": "execute_result"
    }
   ],
   "source": [
    "df=pd.DataFrame(sozluk)\n",
    "df"
   ]
  },
  {
   "cell_type": "markdown",
   "id": "fe81a0e9",
   "metadata": {},
   "source": [
    "# 1\n",
    "- 2.indexde bulunan kategoriyi bulalım (Sadece kategori bilgisi) \n",
    "- 2. indexde bulunan ürünü bulalım (Sadece ürün bilgisi)\n",
    "- 4.indexden 9.indexe kadar olan verileri bulalım (Kategori,ürün,fiyat bilgisi beraber)\n",
    "- 1.indexden 6.indexe kadar olan ürünleri bulalım (Sadece ürün bilgisi)\n"
   ]
  },
  {
   "cell_type": "code",
   "execution_count": 19,
   "id": "901c6a0d",
   "metadata": {},
   "outputs": [
    {
     "data": {
      "text/plain": [
       "'Ayakkabı'"
      ]
     },
     "execution_count": 19,
     "metadata": {},
     "output_type": "execute_result"
    }
   ],
   "source": [
    "df.iloc[2,0]"
   ]
  },
  {
   "cell_type": "code",
   "execution_count": 18,
   "id": "3453ed1b",
   "metadata": {},
   "outputs": [
    {
     "data": {
      "text/plain": [
       "'Sandalet'"
      ]
     },
     "execution_count": 18,
     "metadata": {},
     "output_type": "execute_result"
    }
   ],
   "source": [
    "df.iloc[2,1]"
   ]
  },
  {
   "cell_type": "code",
   "execution_count": 20,
   "id": "23b02dd9",
   "metadata": {},
   "outputs": [
    {
     "data": {
      "text/plain": [
       "'Ayakkabı'"
      ]
     },
     "execution_count": 20,
     "metadata": {},
     "output_type": "execute_result"
    }
   ],
   "source": [
    "df.loc[2,\"Kategori\"]"
   ]
  },
  {
   "cell_type": "code",
   "execution_count": 21,
   "id": "33dcaa40",
   "metadata": {},
   "outputs": [
    {
     "data": {
      "text/plain": [
       "'Sandalet'"
      ]
     },
     "execution_count": 21,
     "metadata": {},
     "output_type": "execute_result"
    }
   ],
   "source": [
    "df.loc[2,\"Ürün\"]"
   ]
  },
  {
   "cell_type": "code",
   "execution_count": 22,
   "id": "caab3451",
   "metadata": {},
   "outputs": [
    {
     "data": {
      "text/html": [
       "<div>\n",
       "<style scoped>\n",
       "    .dataframe tbody tr th:only-of-type {\n",
       "        vertical-align: middle;\n",
       "    }\n",
       "\n",
       "    .dataframe tbody tr th {\n",
       "        vertical-align: top;\n",
       "    }\n",
       "\n",
       "    .dataframe thead th {\n",
       "        text-align: right;\n",
       "    }\n",
       "</style>\n",
       "<table border=\"1\" class=\"dataframe\">\n",
       "  <thead>\n",
       "    <tr style=\"text-align: right;\">\n",
       "      <th></th>\n",
       "      <th>Kategori</th>\n",
       "      <th>Ürün</th>\n",
       "      <th>Fiyat</th>\n",
       "    </tr>\n",
       "  </thead>\n",
       "  <tbody>\n",
       "    <tr>\n",
       "      <th>4</th>\n",
       "      <td>Ayakkabı</td>\n",
       "      <td>Spor Ayakkabı</td>\n",
       "      <td>700</td>\n",
       "    </tr>\n",
       "    <tr>\n",
       "      <th>5</th>\n",
       "      <td>Giyim</td>\n",
       "      <td>Pantolon</td>\n",
       "      <td>400</td>\n",
       "    </tr>\n",
       "    <tr>\n",
       "      <th>6</th>\n",
       "      <td>Aksesuar</td>\n",
       "      <td>Kolye</td>\n",
       "      <td>150</td>\n",
       "    </tr>\n",
       "    <tr>\n",
       "      <th>7</th>\n",
       "      <td>Aksesuar</td>\n",
       "      <td>Yüzük</td>\n",
       "      <td>80</td>\n",
       "    </tr>\n",
       "    <tr>\n",
       "      <th>8</th>\n",
       "      <td>Ayakkabı</td>\n",
       "      <td>Çizme</td>\n",
       "      <td>850</td>\n",
       "    </tr>\n",
       "  </tbody>\n",
       "</table>\n",
       "</div>"
      ],
      "text/plain": [
       "   Kategori           Ürün  Fiyat\n",
       "4  Ayakkabı  Spor Ayakkabı    700\n",
       "5     Giyim       Pantolon    400\n",
       "6  Aksesuar          Kolye    150\n",
       "7  Aksesuar          Yüzük     80\n",
       "8  Ayakkabı          Çizme    850"
      ]
     },
     "execution_count": 22,
     "metadata": {},
     "output_type": "execute_result"
    }
   ],
   "source": [
    "df[4:9]"
   ]
  },
  {
   "cell_type": "code",
   "execution_count": 24,
   "id": "bae9cceb",
   "metadata": {},
   "outputs": [
    {
     "data": {
      "text/html": [
       "<div>\n",
       "<style scoped>\n",
       "    .dataframe tbody tr th:only-of-type {\n",
       "        vertical-align: middle;\n",
       "    }\n",
       "\n",
       "    .dataframe tbody tr th {\n",
       "        vertical-align: top;\n",
       "    }\n",
       "\n",
       "    .dataframe thead th {\n",
       "        text-align: right;\n",
       "    }\n",
       "</style>\n",
       "<table border=\"1\" class=\"dataframe\">\n",
       "  <thead>\n",
       "    <tr style=\"text-align: right;\">\n",
       "      <th></th>\n",
       "      <th>Ürün</th>\n",
       "    </tr>\n",
       "  </thead>\n",
       "  <tbody>\n",
       "    <tr>\n",
       "      <th>1</th>\n",
       "      <td>T-shirt</td>\n",
       "    </tr>\n",
       "    <tr>\n",
       "      <th>2</th>\n",
       "      <td>Sandalet</td>\n",
       "    </tr>\n",
       "    <tr>\n",
       "      <th>3</th>\n",
       "      <td>Küpe</td>\n",
       "    </tr>\n",
       "    <tr>\n",
       "      <th>4</th>\n",
       "      <td>Spor Ayakkabı</td>\n",
       "    </tr>\n",
       "    <tr>\n",
       "      <th>5</th>\n",
       "      <td>Pantolon</td>\n",
       "    </tr>\n",
       "  </tbody>\n",
       "</table>\n",
       "</div>"
      ],
      "text/plain": [
       "            Ürün\n",
       "1        T-shirt\n",
       "2       Sandalet\n",
       "3           Küpe\n",
       "4  Spor Ayakkabı\n",
       "5       Pantolon"
      ]
     },
     "execution_count": 24,
     "metadata": {},
     "output_type": "execute_result"
    }
   ],
   "source": [
    "df[1:6][[\"Ürün\"]]"
   ]
  },
  {
   "cell_type": "markdown",
   "id": "18d5e3a5",
   "metadata": {},
   "source": [
    "# 2\n",
    "- Giyim kategorisinde bulunan ürünleri gösterin\n",
    "- Ayakkabı kategorisinde bulunan ürünleri gösterin\n",
    "- Aksesuar kategorisinde bulunan ürünleri gösterin"
   ]
  },
  {
   "cell_type": "code",
   "execution_count": 36,
   "id": "54393ef2",
   "metadata": {},
   "outputs": [
    {
     "data": {
      "text/html": [
       "<div>\n",
       "<style scoped>\n",
       "    .dataframe tbody tr th:only-of-type {\n",
       "        vertical-align: middle;\n",
       "    }\n",
       "\n",
       "    .dataframe tbody tr th {\n",
       "        vertical-align: top;\n",
       "    }\n",
       "\n",
       "    .dataframe thead th {\n",
       "        text-align: right;\n",
       "    }\n",
       "</style>\n",
       "<table border=\"1\" class=\"dataframe\">\n",
       "  <thead>\n",
       "    <tr style=\"text-align: right;\">\n",
       "      <th></th>\n",
       "      <th>Ürün</th>\n",
       "    </tr>\n",
       "  </thead>\n",
       "  <tbody>\n",
       "    <tr>\n",
       "      <th>0</th>\n",
       "      <td>Kazak</td>\n",
       "    </tr>\n",
       "    <tr>\n",
       "      <th>1</th>\n",
       "      <td>T-shirt</td>\n",
       "    </tr>\n",
       "    <tr>\n",
       "      <th>5</th>\n",
       "      <td>Pantolon</td>\n",
       "    </tr>\n",
       "    <tr>\n",
       "      <th>9</th>\n",
       "      <td>Ceket</td>\n",
       "    </tr>\n",
       "  </tbody>\n",
       "</table>\n",
       "</div>"
      ],
      "text/plain": [
       "       Ürün\n",
       "0     Kazak\n",
       "1   T-shirt\n",
       "5  Pantolon\n",
       "9     Ceket"
      ]
     },
     "execution_count": 36,
     "metadata": {},
     "output_type": "execute_result"
    }
   ],
   "source": [
    "df[df[\"Kategori\"]==\"Giyim\"][[\"Ürün\"]]"
   ]
  },
  {
   "cell_type": "code",
   "execution_count": 37,
   "id": "21dd9923",
   "metadata": {},
   "outputs": [
    {
     "data": {
      "text/html": [
       "<div>\n",
       "<style scoped>\n",
       "    .dataframe tbody tr th:only-of-type {\n",
       "        vertical-align: middle;\n",
       "    }\n",
       "\n",
       "    .dataframe tbody tr th {\n",
       "        vertical-align: top;\n",
       "    }\n",
       "\n",
       "    .dataframe thead th {\n",
       "        text-align: right;\n",
       "    }\n",
       "</style>\n",
       "<table border=\"1\" class=\"dataframe\">\n",
       "  <thead>\n",
       "    <tr style=\"text-align: right;\">\n",
       "      <th></th>\n",
       "      <th>Ürün</th>\n",
       "    </tr>\n",
       "  </thead>\n",
       "  <tbody>\n",
       "    <tr>\n",
       "      <th>2</th>\n",
       "      <td>Sandalet</td>\n",
       "    </tr>\n",
       "    <tr>\n",
       "      <th>4</th>\n",
       "      <td>Spor Ayakkabı</td>\n",
       "    </tr>\n",
       "    <tr>\n",
       "      <th>8</th>\n",
       "      <td>Çizme</td>\n",
       "    </tr>\n",
       "  </tbody>\n",
       "</table>\n",
       "</div>"
      ],
      "text/plain": [
       "            Ürün\n",
       "2       Sandalet\n",
       "4  Spor Ayakkabı\n",
       "8          Çizme"
      ]
     },
     "execution_count": 37,
     "metadata": {},
     "output_type": "execute_result"
    }
   ],
   "source": [
    "df[df[\"Kategori\"]==\"Ayakkabı\"][[\"Ürün\"]]"
   ]
  },
  {
   "cell_type": "code",
   "execution_count": 38,
   "id": "3ca2d2e8",
   "metadata": {},
   "outputs": [
    {
     "data": {
      "text/html": [
       "<div>\n",
       "<style scoped>\n",
       "    .dataframe tbody tr th:only-of-type {\n",
       "        vertical-align: middle;\n",
       "    }\n",
       "\n",
       "    .dataframe tbody tr th {\n",
       "        vertical-align: top;\n",
       "    }\n",
       "\n",
       "    .dataframe thead th {\n",
       "        text-align: right;\n",
       "    }\n",
       "</style>\n",
       "<table border=\"1\" class=\"dataframe\">\n",
       "  <thead>\n",
       "    <tr style=\"text-align: right;\">\n",
       "      <th></th>\n",
       "      <th>Ürün</th>\n",
       "    </tr>\n",
       "  </thead>\n",
       "  <tbody>\n",
       "    <tr>\n",
       "      <th>3</th>\n",
       "      <td>Küpe</td>\n",
       "    </tr>\n",
       "    <tr>\n",
       "      <th>6</th>\n",
       "      <td>Kolye</td>\n",
       "    </tr>\n",
       "    <tr>\n",
       "      <th>7</th>\n",
       "      <td>Yüzük</td>\n",
       "    </tr>\n",
       "  </tbody>\n",
       "</table>\n",
       "</div>"
      ],
      "text/plain": [
       "    Ürün\n",
       "3   Küpe\n",
       "6  Kolye\n",
       "7  Yüzük"
      ]
     },
     "execution_count": 38,
     "metadata": {},
     "output_type": "execute_result"
    }
   ],
   "source": [
    "df[df[\"Kategori\"]==\"Aksesuar\"][[\"Ürün\"]]"
   ]
  },
  {
   "cell_type": "markdown",
   "id": "5c31302a",
   "metadata": {},
   "source": [
    "# 3\n",
    "- Giyim kategorisinde fiyatı 300'den fazla olan ürünleri gösterin\n",
    "- Ayakkabı kategorisinde fiyatı 600'den az olan ürünleri gösterin\n",
    "- Aksesuar kategorisinde fiyatı 100'den fazla olan aksesuarı gösterin"
   ]
  },
  {
   "cell_type": "code",
   "execution_count": 76,
   "id": "0b4a129e",
   "metadata": {},
   "outputs": [
    {
     "name": "stderr",
     "output_type": "stream",
     "text": [
      "C:\\Users\\Gamze Şirin\\AppData\\Local\\Temp\\ipykernel_17532\\3378309608.py:1: UserWarning: Boolean Series key will be reindexed to match DataFrame index.\n",
      "  df[df[\"Kategori\"]==\"Giyim\"][df[\"Fiyat\"]>300][[\"Ürün\"]]\n"
     ]
    },
    {
     "data": {
      "text/html": [
       "<div>\n",
       "<style scoped>\n",
       "    .dataframe tbody tr th:only-of-type {\n",
       "        vertical-align: middle;\n",
       "    }\n",
       "\n",
       "    .dataframe tbody tr th {\n",
       "        vertical-align: top;\n",
       "    }\n",
       "\n",
       "    .dataframe thead th {\n",
       "        text-align: right;\n",
       "    }\n",
       "</style>\n",
       "<table border=\"1\" class=\"dataframe\">\n",
       "  <thead>\n",
       "    <tr style=\"text-align: right;\">\n",
       "      <th></th>\n",
       "      <th>Ürün</th>\n",
       "    </tr>\n",
       "  </thead>\n",
       "  <tbody>\n",
       "    <tr>\n",
       "      <th>5</th>\n",
       "      <td>Pantolon</td>\n",
       "    </tr>\n",
       "    <tr>\n",
       "      <th>9</th>\n",
       "      <td>Ceket</td>\n",
       "    </tr>\n",
       "  </tbody>\n",
       "</table>\n",
       "</div>"
      ],
      "text/plain": [
       "       Ürün\n",
       "5  Pantolon\n",
       "9     Ceket"
      ]
     },
     "execution_count": 76,
     "metadata": {},
     "output_type": "execute_result"
    }
   ],
   "source": [
    "df[df[\"Kategori\"]==\"Giyim\"][df[\"Fiyat\"]>300][[\"Ürün\"]]"
   ]
  },
  {
   "cell_type": "code",
   "execution_count": 75,
   "id": "46377962",
   "metadata": {},
   "outputs": [
    {
     "name": "stderr",
     "output_type": "stream",
     "text": [
      "C:\\Users\\Gamze Şirin\\AppData\\Local\\Temp\\ipykernel_17532\\3345777700.py:1: UserWarning: Boolean Series key will be reindexed to match DataFrame index.\n",
      "  df[df[\"Kategori\"]==\"Ayakkabı\"][df[\"Fiyat\"]<600][[\"Ürün\"]]\n"
     ]
    },
    {
     "data": {
      "text/html": [
       "<div>\n",
       "<style scoped>\n",
       "    .dataframe tbody tr th:only-of-type {\n",
       "        vertical-align: middle;\n",
       "    }\n",
       "\n",
       "    .dataframe tbody tr th {\n",
       "        vertical-align: top;\n",
       "    }\n",
       "\n",
       "    .dataframe thead th {\n",
       "        text-align: right;\n",
       "    }\n",
       "</style>\n",
       "<table border=\"1\" class=\"dataframe\">\n",
       "  <thead>\n",
       "    <tr style=\"text-align: right;\">\n",
       "      <th></th>\n",
       "      <th>Ürün</th>\n",
       "    </tr>\n",
       "  </thead>\n",
       "  <tbody>\n",
       "    <tr>\n",
       "      <th>2</th>\n",
       "      <td>Sandalet</td>\n",
       "    </tr>\n",
       "  </tbody>\n",
       "</table>\n",
       "</div>"
      ],
      "text/plain": [
       "       Ürün\n",
       "2  Sandalet"
      ]
     },
     "execution_count": 75,
     "metadata": {},
     "output_type": "execute_result"
    }
   ],
   "source": [
    "df[df[\"Kategori\"]==\"Ayakkabı\"][df[\"Fiyat\"]<600][[\"Ürün\"]]"
   ]
  },
  {
   "cell_type": "code",
   "execution_count": 74,
   "id": "7ed28201",
   "metadata": {},
   "outputs": [
    {
     "name": "stderr",
     "output_type": "stream",
     "text": [
      "C:\\Users\\Gamze Şirin\\AppData\\Local\\Temp\\ipykernel_17532\\3126828040.py:1: UserWarning: Boolean Series key will be reindexed to match DataFrame index.\n",
      "  df[df[\"Kategori\"]==\"Aksesuar\"][df[\"Fiyat\"]>100][[\"Ürün\"]]\n"
     ]
    },
    {
     "data": {
      "text/html": [
       "<div>\n",
       "<style scoped>\n",
       "    .dataframe tbody tr th:only-of-type {\n",
       "        vertical-align: middle;\n",
       "    }\n",
       "\n",
       "    .dataframe tbody tr th {\n",
       "        vertical-align: top;\n",
       "    }\n",
       "\n",
       "    .dataframe thead th {\n",
       "        text-align: right;\n",
       "    }\n",
       "</style>\n",
       "<table border=\"1\" class=\"dataframe\">\n",
       "  <thead>\n",
       "    <tr style=\"text-align: right;\">\n",
       "      <th></th>\n",
       "      <th>Ürün</th>\n",
       "    </tr>\n",
       "  </thead>\n",
       "  <tbody>\n",
       "    <tr>\n",
       "      <th>6</th>\n",
       "      <td>Kolye</td>\n",
       "    </tr>\n",
       "  </tbody>\n",
       "</table>\n",
       "</div>"
      ],
      "text/plain": [
       "    Ürün\n",
       "6  Kolye"
      ]
     },
     "execution_count": 74,
     "metadata": {},
     "output_type": "execute_result"
    }
   ],
   "source": [
    "df[df[\"Kategori\"]==\"Aksesuar\"][df[\"Fiyat\"]>100][[\"Ürün\"]]"
   ]
  }
 ],
 "metadata": {
  "kernelspec": {
   "display_name": "Python 3 (ipykernel)",
   "language": "python",
   "name": "python3"
  },
  "language_info": {
   "codemirror_mode": {
    "name": "ipython",
    "version": 3
   },
   "file_extension": ".py",
   "mimetype": "text/x-python",
   "name": "python",
   "nbconvert_exporter": "python",
   "pygments_lexer": "ipython3",
   "version": "3.11.2"
  }
 },
 "nbformat": 4,
 "nbformat_minor": 5
}

{
 "cells": [
  {
   "cell_type": "code",
   "execution_count": 1,
   "metadata": {},
   "outputs": [
    {
     "name": "stdout",
     "output_type": "stream",
     "text": [
      "0\n",
      "1\n",
      "2\n"
     ]
    }
   ],
   "source": [
    "meyveler=[\"elma\",\"muz\",\"ayva\"]\n",
    "for i in range(0,len(meyveler)):\n",
    " print(i)"
   ]
  },
  {
   "cell_type": "code",
   "execution_count": 2,
   "metadata": {},
   "outputs": [
    {
     "name": "stdout",
     "output_type": "stream",
     "text": [
      "0. indexte bulunan meyve: elma\n",
      "1. indexte bulunan meyve: armut\n",
      "2. indexte bulunan meyve: muz\n",
      "3. indexte bulunan meyve: çilek\n",
      "4. indexte bulunan meyve: ayva\n"
     ]
    }
   ],
   "source": [
    "meyveler=[\"elma\",\"armut\",\"muz\",\"çilek\",\"ayva\"]\n",
    "a=0\n",
    "for meyve in meyveler:\n",
    " print(f'{a}. indexte bulunan meyve:',meyve)\n",
    " a=a+1"
   ]
  },
  {
   "cell_type": "code",
   "execution_count": 3,
   "metadata": {},
   "outputs": [
    {
     "name": "stdout",
     "output_type": "stream",
     "text": [
      "0 . indexteki meyve : elma\n",
      "1 . indexteki meyve : muz\n",
      "2 . indexteki meyve : çilek\n",
      "3 . indexteki meyve : ayva\n",
      "4 . indexteki meyve : üzüm\n"
     ]
    }
   ],
   "source": [
    "meyveler = [\"elma\" , \"muz\" , \"çilek\",\"ayva\", \"üzüm\"]\n",
    "for i in range(0,len(meyveler)):\n",
    "  print(i , \". indexteki meyve :\" , meyveler[i])"
   ]
  },
  {
   "cell_type": "code",
   "execution_count": 4,
   "metadata": {},
   "outputs": [
    {
     "name": "stdout",
     "output_type": "stream",
     "text": [
      "['elma', 'ayva', 'ayva']\n"
     ]
    }
   ],
   "source": [
    "new_meyve=[]\n",
    "liste=['elma', 'armut', 'muz', 'çilek', 'ayva']\n",
    "for meyve in meyveler:\n",
    "  for i in meyve:\n",
    "    if i==\"a\":\n",
    "      new_meyve.append(meyve)\n",
    "print(new_meyve)"
   ]
  },
  {
   "cell_type": "code",
   "execution_count": 5,
   "metadata": {},
   "outputs": [
    {
     "name": "stdout",
     "output_type": "stream",
     "text": [
      "0 .indexdeki meve: elma\n",
      "1 .indexdeki meve: armut\n",
      "2 .indexdeki meve: muz\n",
      "3 .indexdeki meve: çilek\n",
      "4 .indexdeki meve: ayva\n"
     ]
    }
   ],
   "source": [
    "meyveler=[\"elma\",\"armut\",\"muz\",\"çilek\",\"ayva\"]\n",
    "for i in range(0,len(meyveler)):\n",
    "    print(\"{} .indexdeki meve: {}\".format(i,meyveler[i]))"
   ]
  },
  {
   "cell_type": "code",
   "execution_count": 6,
   "metadata": {},
   "outputs": [
    {
     "name": "stdout",
     "output_type": "stream",
     "text": [
      "['elma', 'ayva', 'ayva']\n"
     ]
    }
   ],
   "source": [
    "meyveler = ['elma', 'armut', 'muz', 'çilek', 'ayva']\n",
    "new_meyveler = []\n",
    "for i in meyveler:\n",
    "  if \"a\" in i:\n",
    "    new_meyveler.append(i)\n",
    "print(new_meyve)"
   ]
  }
 ],
 "metadata": {
  "kernelspec": {
   "display_name": "Python 3",
   "language": "python",
   "name": "python3"
  },
  "language_info": {
   "codemirror_mode": {
    "name": "ipython",
    "version": 3
   },
   "file_extension": ".py",
   "mimetype": "text/x-python",
   "name": "python",
   "nbconvert_exporter": "python",
   "pygments_lexer": "ipython3",
   "version": "3.11.2"
  },
  "orig_nbformat": 4
 },
 "nbformat": 4,
 "nbformat_minor": 2
}

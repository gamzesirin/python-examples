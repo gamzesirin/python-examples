{
 "cells": [
  {
   "cell_type": "markdown",
   "id": "ff87c8f7",
   "metadata": {},
   "source": [
    "# 1\n",
    "Kullanıcıdan maaş bilgisini isteyelim ve bu bilgiye göre maaşından ne kadar vergi kesileceğini hesaplayalım. (Oluşturulan vergi sistemi hayal ürünüdür :D)\n",
    "Kullanıcının geliri;\n",
    "- 10000 ve altındaysa maaşından %5 kesinti olsun.\n",
    "- 25000 ve altındaysa maaşından %10 kesinti olsun.\n",
    "- 45000 ve altındaysa maaşından %25 kesinti olsun.\n",
    "- Diğer koşullarda %30 kesinti olsun.\n",
    "\n",
    "Bu durumlara göre kullanıcının yeni maaşını yazdıralım."
   ]
  },
  {
   "cell_type": "code",
   "execution_count": 3,
   "id": "a6da3ea9",
   "metadata": {},
   "outputs": [
    {
     "name": "stdout",
     "output_type": "stream",
     "text": [
      "33000\n",
      "24750.0\n"
     ]
    }
   ],
   "source": [
    "maas=int(input(\"Maaşınızı giriniz\"))\n",
    "print(maas)\n",
    "if maas<=10000:\n",
    "    kesinti=maas*5/100\n",
    "    maas-=kesinti\n",
    "    print(maas)\n",
    "elif maas>10000 and maas<=25000:\n",
    "    kesinti=maas*10/100\n",
    "    maas-=kesinti\n",
    "    print(maas) \n",
    "elif maas>25000 and maas<=45000:\n",
    "    kesinti=maas*25/100\n",
    "    maas-=kesinti\n",
    "    print(maas) \n",
    "else:\n",
    "    kesinti=maas*30/100\n",
    "    maas-=kesinti\n",
    "    print(maas) "
   ]
  },
  {
   "cell_type": "markdown",
   "id": "77370310",
   "metadata": {},
   "source": [
    "# 2\n",
    "Kullanıcıdan kullanıcı adı ve şifre oluşturmasını isteyin. Şifrenin uzunluğu altı haneye ulaşmışsa hesabınız oluşturuldu mesajı alsın, altı haneden azsa altı haneli şifre oluşturması gerektiğinin mesajını alsın.(Sadece koşul kullanmanız yeterli.)"
   ]
  },
  {
   "cell_type": "code",
   "execution_count": 2,
   "id": "61ddc038",
   "metadata": {},
   "outputs": [
    {
     "name": "stdout",
     "output_type": "stream",
     "text": [
      "adınız: ali\n",
      "şifreniz: 12346780\n",
      "lütfen 6 haneden oluşan bir şifre giriniz\n"
     ]
    }
   ],
   "source": [
    "ad=input(\"kullanıcı adınızı giriniz\")\n",
    "print(\"adınız: \" +ad)\n",
    "şifre=input(\"şifrenizi giriniz\")\n",
    "print(\"şifreniz: \" +şifre)\n",
    "if len(şifre)==6:\n",
    "    print(\"hesabınız oluşturuldu\")\n",
    "else:\n",
    "    print(\"lütfen 6 haneden oluşan bir şifre giriniz\")\n"
   ]
  },
  {
   "attachments": {},
   "cell_type": "markdown",
   "id": "fd529538",
   "metadata": {},
   "source": [
    "# 3\n",
    "Bir önceki örneği geliştiriyoruz. \n",
    "\n",
    "- Kullanıcı girdiği şifre 5 ve 10 hane arasında olmak zorunda olsun. \n",
    "- Eğer bu koşula uyuyorsa \"Hesabınız oluşturuldu.\" mesajı alsın\n",
    "- Koşulu sağlamıyorsa \"Lütfen girdiniz şifre 5 haneden az 10 haneden fazla olmasın!\" uyarısı alsın.\n",
    "- Bunu oluştururken kullanıcı istediğimiz şartlarda şifre oluşturuna kadar sormaya devam etsin."
   ]
  },
  {
   "cell_type": "code",
   "execution_count": 21,
   "id": "9eff7011",
   "metadata": {},
   "outputs": [
    {
     "name": "stdout",
     "output_type": "stream",
     "text": [
      "şifreniz: 1234\n",
      "Lütfen girdiniz şifre 5 haneden az 10 haneden fazla olmasın!\n",
      "şifreniz: 987654312345\n",
      "Lütfen girdiniz şifre 5 haneden az 10 haneden fazla olmasın!\n",
      "şifreniz: 23467898\n",
      "Hesabınız oluşturuldu.\n"
     ]
    }
   ],
   "source": [
    "sifre=input(\"şifrenizi giriniz\")\n",
    "print(\"şifreniz: \" +sifre)\n",
    "a=0\n",
    "while a>=0:\n",
    "    if len(sifre)>=5 and len(sifre)<=10:\n",
    "        print(\"Hesabınız oluşturuldu.\")\n",
    "        a=a-1\n",
    "       \n",
    "    else:\n",
    "        print(\"Lütfen girdiniz şifre 5 haneden az 10 haneden fazla olmasın!\" )\n",
    "        sifre=input(\"şifrenizi giriniz\")\n",
    "        print(\"şifreniz: \" +sifre)\n",
    "    "
   ]
  },
  {
   "cell_type": "markdown",
   "id": "2fd0417d",
   "metadata": {},
   "source": [
    "# 4\n",
    "- Kullanıcıdan isim ve şifre isteyeceğiz ve şifre girişi için üç hak vereceğiz. \n",
    "- Eğer önceden tanımlı şifre ile kullanıdan gelen şifre aynıysa \"Giriş yapıldı.\" yazsın. \n",
    "- Şifre girişi yanlışşa \"Yanlış şifre girildi!\" uyarısı verilsin ve üç yanlış denemede program bitsin.\n",
    "- Tercihe göre kalan hak bilgisi verilsin"
   ]
  },
  {
   "cell_type": "code",
   "execution_count": 29,
   "id": "41d69a99",
   "metadata": {},
   "outputs": [
    {
     "name": "stdout",
     "output_type": "stream",
     "text": [
      "adınız: gamze\n",
      "şifreniz: 1234\n",
      "yanlış şifre girildi !\n",
      "2 hakkınız kaldı\n",
      "şifreniz: 987654\n",
      "yanlış şifre girildi !\n",
      "1 hakkınız kaldı\n",
      "şifreniz: 123987\n",
      "giriş başarılı\n"
     ]
    }
   ],
   "source": [
    "ad=input(\"kullanıcı adınızı giriniz\")\n",
    "print(\"adınız: \" +ad)\n",
    "sifre=\"123987\"\n",
    "sayac=3\n",
    "for i in range(3):\n",
    "    şifre=input(\"şifrenizi giriniz\")\n",
    "    print(\"şifreniz: \" +şifre)\n",
    "    if sifre==şifre:\n",
    "        print(\"giriş başarılı\")\n",
    "        break\n",
    "    else:\n",
    "        print(\"yanlış şifre girildi !\")\n",
    "        sayac=sayac-1\n",
    "        print(sayac ,\"hakkınız kaldı\")"
   ]
  }
 ],
 "metadata": {
  "kernelspec": {
   "display_name": "Python 3 (ipykernel)",
   "language": "python",
   "name": "python3"
  },
  "language_info": {
   "codemirror_mode": {
    "name": "ipython",
    "version": 3
   },
   "file_extension": ".py",
   "mimetype": "text/x-python",
   "name": "python",
   "nbconvert_exporter": "python",
   "pygments_lexer": "ipython3",
   "version": "3.11.2"
  }
 },
 "nbformat": 4,
 "nbformat_minor": 5
}

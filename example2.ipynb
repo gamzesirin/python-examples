{
 "cells": [
  {
   "cell_type": "code",
   "execution_count": 1,
   "metadata": {},
   "outputs": [
    {
     "name": "stdout",
     "output_type": "stream",
     "text": [
      "hello python\n"
     ]
    }
   ],
   "source": [
    "print(\"hello python\")"
   ]
  },
  {
   "cell_type": "code",
   "execution_count": 3,
   "metadata": {},
   "outputs": [
    {
     "name": "stdout",
     "output_type": "stream",
     "text": [
      " veri bilimi atölyemizin ilk ödevi :) \n"
     ]
    }
   ],
   "source": [
    "print(\" veri bilimi atölyemizin ilk ödevi :) \")"
   ]
  },
  {
   "cell_type": "code",
   "execution_count": 7,
   "metadata": {},
   "outputs": [
    {
     "name": "stdout",
     "output_type": "stream",
     "text": [
      "lütfen 0 ile 100 arasında bir değer giriniz\n"
     ]
    }
   ],
   "source": [
    "a=int(input(\"bir skor giriniz\"))\n",
    "if a >=0 and a<=40:\n",
    " print(\"kötü\")\n",
    "elif a>40 and a<=70:\n",
    " print(\"iyi\")\n",
    "elif a>70 and a<=100:\n",
    " print(\"çok iyi\")\n",
    "else:\n",
    " print(\"lütfen 0 ile 100 arasında bir değer giriniz\")"
   ]
  },
  {
   "cell_type": "code",
   "execution_count": 8,
   "metadata": {},
   "outputs": [
    {
     "name": "stdout",
     "output_type": "stream",
     "text": [
      "selam!\n",
      "selam!\n",
      "selam!\n",
      "selam!\n",
      "selam!\n",
      "selam!\n",
      "selam!\n",
      "selam!\n",
      "selam!\n",
      "selam!\n"
     ]
    }
   ],
   "source": [
    "a = 1\n",
    "while a<=10:\n",
    "    print(\"selam!\")\n",
    "    a= a+1"
   ]
  },
  {
   "cell_type": "code",
   "execution_count": 18,
   "metadata": {},
   "outputs": [
    {
     "name": "stdout",
     "output_type": "stream",
     "text": [
      "çift\n",
      "tek\n",
      "çift\n",
      "tek\n",
      "çift\n",
      "tek\n",
      "çift\n",
      "tek\n",
      "çift\n",
      "tek\n",
      "çift\n"
     ]
    }
   ],
   "source": [
    "a=0\n",
    "while a<=10:\n",
    "    if a%2==0:\n",
    "        print(\"çift\")\n",
    "        a=a+1\n",
    "    else:\n",
    "        print(\"tek\")\n",
    "        a=a+1"
   ]
  },
  {
   "cell_type": "code",
   "execution_count": 22,
   "metadata": {},
   "outputs": [
    {
     "name": "stdout",
     "output_type": "stream",
     "text": [
      "0\n",
      "2\n",
      "4\n",
      "6\n",
      "8\n",
      "10\n"
     ]
    }
   ],
   "source": [
    "a=0\n",
    "while a<=10:\n",
    "    if a%2==0:\n",
    "        print(a)\n",
    "    a=a+1"
   ]
  },
  {
   "cell_type": "code",
   "execution_count": null,
   "metadata": {},
   "outputs": [],
   "source": []
  }
 ],
 "metadata": {
  "kernelspec": {
   "display_name": "Python 3",
   "language": "python",
   "name": "python3"
  },
  "language_info": {
   "codemirror_mode": {
    "name": "ipython",
    "version": 3
   },
   "file_extension": ".py",
   "mimetype": "text/x-python",
   "name": "python",
   "nbconvert_exporter": "python",
   "pygments_lexer": "ipython3",
   "version": "3.11.2"
  },
  "orig_nbformat": 4
 },
 "nbformat": 4,
 "nbformat_minor": 2
}
